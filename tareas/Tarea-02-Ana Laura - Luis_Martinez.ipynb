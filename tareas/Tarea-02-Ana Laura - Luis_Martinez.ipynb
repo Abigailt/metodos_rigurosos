{
 "metadata": {
  "name": ""
 },
 "nbformat": 3,
 "nbformat_minor": 0,
 "worksheets": [
  {
   "cells": [
    {
     "cell_type": "heading",
     "level": 1,
     "metadata": {},
     "source": [
      "Ana Laura - Luis Mart\u00ednez."
     ]
    },
    {
     "cell_type": "heading",
     "level": 1,
     "metadata": {},
     "source": [
      "Tarea 2: Usando librer\u00edas de python"
     ]
    },
    {
     "cell_type": "markdown",
     "metadata": {},
     "source": [
      "**REGLAS:** (casi id\u00e9nticas a la semana anterior)\n",
      "\n",
      "- Usa Python para llevar a cabo las tareas\n",
      "\n",
      "- S\u00ed se permite el trabajo colaborativo, y de hecho se fomenta, pero se exige el uso de las neuronas de todos los que colaboren. Se vale entregar una sola tarea por grupo de 2 o (si es necesario) 3 personas.\n",
      "\n",
      "- La tarea se entrega como un *notebook* de IPython, y debe incluir notas, comentario y **TODO** lo est\u00e9ticamente necesario, que lo haga entendible para una tercer persona no involucrada en el curso. \n",
      "\n",
      "- Se recomienda usar una versi\u00f3n nueva de este mismo notebook, reemplazando \"[Respuestas aqu\u00ed]\" por tu discusi\u00f3n, c\u00f3digo, y resultados (en los tipos de celda que convengan, y con el n\u00famero de ellos que haga falta).\n",
      "\n",
      "- Cambia el nombre del notebook para reflejar el nombre que escojan para su grupo de trabajo, e.g. \"Tarea-01-profes\"\n",
      "\n",
      "- S\u00fabela a tu cuenta de github y haznos saber la direcci\u00f3n."
     ]
    },
    {
     "cell_type": "markdown",
     "metadata": {},
     "source": [
      "**1.** \n",
      "\n",
      "a. Eval\u00faa la funci\u00f3n racional\n",
      "$$\n",
      "R(x,y)= \\textstyle \\frac{33375}{100} y^6 + x^2 (11 x^2 y^2 - y^6 - 121 y^4 - 2) + \\frac{55}{10}y^8 + \\frac{x}{2 y}\n",
      "$$\n",
      "en los valores (enteros) $x=77617$ y $y=33096$. \n",
      "\n",
      "b. Verifica tu respuesta usando precisi\u00f3n extendida (librer\u00eda `mpmath` de `sympy`), digamos, con 30, 60, y 80 d\u00edgitos.\n",
      "\n",
      "c. Dado que se trata de una funci\u00f3n racional, uno esperar\u00eda que $R(77617,33096)$ sea un valor racional. \u00bfQu\u00e9 valor num\u00e9rico obtienes si utilizas la librer\u00eda `Rational` de `sympy`?\n"
     ]
    },
    {
     "cell_type": "markdown",
     "metadata": {},
     "source": [
      "*[Respuestas aqu\u00ed]*\n"
     ]
    },
    {
     "cell_type": "markdown",
     "metadata": {},
     "source": [
      "1. a. Definimos la funci\u00f3n racional:"
     ]
    },
    {
     "cell_type": "code",
     "collapsed": false,
     "input": [
      "def R(x,y):\n",
      "    try:\n",
      "        if y==0:\n",
      "            raise ZeroDivisionError\n",
      "        else: \n",
      "            return 3375.*y**6./100. + x**2.*(11.*x**2.*y**2. - y**6. - 121.*y**4-2.) + 55.*y**8./10.+ x/(2.*y)\n",
      "    except ZeroDivisionError:\n",
      "        print \"El valor de y no puede ser cero.\"\n",
      "        raise"
     ],
     "language": "python",
     "metadata": {},
     "outputs": [],
     "prompt_number": 54
    },
    {
     "cell_type": "code",
     "collapsed": false,
     "input": [
      "R(77617.,33096.)"
     ],
     "language": "python",
     "metadata": {},
     "outputs": [
      {
       "metadata": {},
       "output_type": "pyout",
       "prompt_number": 55,
       "text": [
        "-3.942523618266545e+29"
       ]
      }
     ],
     "prompt_number": 55
    },
    {
     "cell_type": "markdown",
     "metadata": {},
     "source": [
      "1. b. Utilizamos precisi\u00f3n extendida con mpmath:"
     ]
    },
    {
     "cell_type": "code",
     "collapsed": false,
     "input": [
      "from sympy.mpmath import mp\n",
      "precisiones = [15,30,60,90,120]\n",
      "\n",
      "for i in xrange(0,len(precisiones)):\n",
      "    mp.dps = precisiones[i]\n",
      "    xx = mp.mpf(77617.)\n",
      "    yy = mp.mpf(33096.)\n",
      "    print \"Precisi\u00f3n \",precisiones[i],\":\", R(xx,yy)"
     ],
     "language": "python",
     "metadata": {},
     "outputs": [
      {
       "output_type": "stream",
       "stream": "stdout",
       "text": [
        "Precisi\u00f3n  15 : -3.94252361826655e+29\n",
        "Precisi\u00f3n  30 : -394252360311364639937711308799.0\n",
        "Precisi\u00f3n  60 : -394252360311364639937711308800.82739605994682136814116509548\n",
        "Precisi\u00f3n  90 : -394252360311364639937711308800.827396059946821368141165095479816291999033115784384819917815\n",
        "Precisi\u00f3n  120 : -394252360311364639937711308800.827396059946821368141165095479816291999033115784384819917814841672709693014261542180323906\n"
       ]
      }
     ],
     "prompt_number": 56
    },
    {
     "cell_type": "markdown",
     "metadata": {},
     "source": [
      "1.c. Utilizamos Rational de `sympy`. Lo que hacemos es comparar los valores obtenidos al evaluar flotantes o n\u00fameros enteros y operarlos con `Rational`."
     ]
    },
    {
     "cell_type": "code",
     "collapsed": false,
     "input": [
      "from sympy import Rational\n",
      "#Usamos Rational con n\u00fameros flotantes.\n",
      "def R2(x,y):\n",
      "    try:\n",
      "        if y==0:\n",
      "            raise ZeroDivisionError\n",
      "        else: \n",
      "            return Rational(3375.*y**6.,100.) + Rational(x**2.*(11.*x**2.*y**2. - y**6. - 121.*y**4-2.),1)\\\n",
      "            + Rational(55.*y**8.,10.) + Rational(x,(2.*y))\n",
      "    except ZeroDivisionError:\n",
      "        print \"El valor de y no puede ser cero.\"\n",
      "        raise\n",
      "\n",
      "#Usamos Rational con n\u00fameros enteros.\n",
      "def R3(x,y):\n",
      "    try:\n",
      "        if y==0:\n",
      "            raise ZeroDivisionError\n",
      "        else: \n",
      "            return Rational(3375*y**6,100) + Rational(x**2*(11*x**2*y**2 - y**6 - 121*y**4-2),1)\\\n",
      "            + Rational(55*y**8,10) + Rational(x,(2*y))\n",
      "    except ZeroDivisionError:\n",
      "        print \"El valor de y no puede ser cero.\"\n",
      "        raise"
     ],
     "language": "python",
     "metadata": {},
     "outputs": [],
     "prompt_number": 57
    },
    {
     "cell_type": "code",
     "collapsed": false,
     "input": [
      "print R(77617.,33096.), R2(Rational(77617.),Rational(33096.)),R3(Rational(77617),Rational(33096))"
     ],
     "language": "python",
     "metadata": {},
     "outputs": [
      {
       "output_type": "stream",
       "stream": "stdout",
       "text": [
        "-3.94252361827e+29 -652408805800059489904455311329240283/1654800 -26096352233729848246756986952144367/66192\n"
       ]
      }
     ],
     "prompt_number": 60
    },
    {
     "cell_type": "markdown",
     "metadata": {},
     "source": [
      "Podemos observar que al introducir flotantes de presici\u00f3n por defecto, 15, en la funci\u00f3n o en la evaluaci\u00f3n obtenemos resultados distintos. Al hacer las divisiones como flotantes obtenemos que las operaciones coinciden a lo m\u00e1ximo 8 d\u00edgitos significativos. "
     ]
    },
    {
     "cell_type": "code",
     "collapsed": false,
     "input": [
      "#Divisi\u00f3n del resultado de R2 como flotantes.\n",
      "-652408805800059489904455311329240283./1654800."
     ],
     "language": "python",
     "metadata": {},
     "outputs": [
      {
       "metadata": {},
       "output_type": "pyout",
       "prompt_number": 28,
       "text": [
        "-3.942523602852668e+29"
       ]
      }
     ],
     "prompt_number": 28
    },
    {
     "cell_type": "code",
     "collapsed": false,
     "input": [
      "#Divisi\u00f3n del resultado de R3 como flotantes.\n",
      "-26096352233729848246756986952144367./66192."
     ],
     "language": "python",
     "metadata": {},
     "outputs": [
      {
       "metadata": {},
       "output_type": "pyout",
       "prompt_number": 42,
       "text": [
        "-3.942523603113647e+29"
       ]
      }
     ],
     "prompt_number": 42
    },
    {
     "cell_type": "markdown",
     "metadata": {},
     "source": [
      "Como conclusi\u00f3n tenemos que la mejor aproximaci\u00f3n es utilizar racionales y enteros al evaluar. Esto lo implementamos en la funci\u00f3n `R3`."
     ]
    },
    {
     "cell_type": "markdown",
     "metadata": {},
     "source": [
      "**2.** \n",
      "\n",
      "Eval\u00faa num\u00e9ricamente (usando herramientas de Python) la integral\n",
      "$$\n",
      "I_1 = \\int_0^1 \\frac{1}{\\sqrt{\\pi}} \\exp \\left( -x^2 \\right) \\, dx\n",
      "$$"
     ]
    },
    {
     "cell_type": "markdown",
     "metadata": {},
     "source": [
      "*[Respuestas aqu\u00ed]*"
     ]
    },
    {
     "cell_type": "markdown",
     "metadata": {},
     "source": [
      "Una manera de evaluar la integral es definir en forma simb\u00f3lica la funci\u00f3n a integrar."
     ]
    },
    {
     "cell_type": "code",
     "collapsed": false,
     "input": [
      "#importamos los paquetes necesarios\n",
      "from sympy import symbols, Integral, sqrt, pi, exp\n",
      "\n",
      "z=symbols(\"z\")"
     ],
     "language": "python",
     "metadata": {},
     "outputs": [],
     "prompt_number": 2
    },
    {
     "cell_type": "code",
     "collapsed": false,
     "input": [
      "# definimos la funci\u00f3n a integrar\n",
      "Integrando= (1/sqrt(pi))*exp(-z**2)"
     ],
     "language": "python",
     "metadata": {},
     "outputs": [],
     "prompt_number": 4
    },
    {
     "cell_type": "code",
     "collapsed": false,
     "input": [
      "# la integral a calacular es:\n",
      "I=Integral(Integrando,(z,0,1))\n",
      "I"
     ],
     "language": "python",
     "metadata": {},
     "outputs": [
      {
       "metadata": {},
       "output_type": "pyout",
       "prompt_number": 5,
       "text": [
        "Integral(exp(-z**2)/sqrt(pi), (z, 0, 1))"
       ]
      }
     ],
     "prompt_number": 5
    },
    {
     "cell_type": "code",
     "collapsed": false,
     "input": [
      "#evaluamos la integral\n",
      "I.doit()"
     ],
     "language": "python",
     "metadata": {},
     "outputs": [
      {
       "metadata": {},
       "output_type": "pyout",
       "prompt_number": 6,
       "text": [
        "erf(1)/2"
       ]
      }
     ],
     "prompt_number": 6
    },
    {
     "cell_type": "markdown",
     "metadata": {},
     "source": [
      "donde $erf()$ es la \"funci\u00f3n de error\" dada por $\\, erf(x):=\\int_0^x \\frac{2}{\\sqrt{\\pi}} \\exp \\left( -t^2 \\right) \\, dt$.\n",
      "\n",
      "Otra manera consiste en calcular una aproximaci\u00f3n de la integral por medio de una cuadratura, podemos usar por ejemplo, la \"Regla del punto medio\". Esto es, para evaluar la integral de una funci\u00f3n $f(x)$ en el intervalo $[a,b]=[0,1]$, consideramos particiones del intervalo $[0,1]$, las cuales denotamos por  $P_n := \\{x_0,\\ldots, x_n\\} $ y definimos la sumas \n",
      "$$S_n := \\sum_{i=1}^n (x_{i}-x_{i-1})f(\\frac{x_{i}+x_{i-1}}{2}).$$\n",
      "\n",
      "De tal forma que cuando $n \\rightarrow \\infty$, las sumas $S_n$ se aproximan al valor de la integral.\n",
      "\n",
      "**Implementaci\u00f3n**\n",
      "\n",
      "Definimos la funci\u00f3n $f(x)=\\frac{1}{\\sqrt{\\pi}}\\exp(-x^2)$"
     ]
    },
    {
     "cell_type": "code",
     "collapsed": false,
     "input": [
      "import numpy as np\n",
      "from numpy import pi, exp"
     ],
     "language": "python",
     "metadata": {},
     "outputs": [],
     "prompt_number": 7
    },
    {
     "cell_type": "code",
     "collapsed": false,
     "input": [
      "def f(x):\n",
      "   return exp(-x**2)/sqrt(pi)"
     ],
     "language": "python",
     "metadata": {},
     "outputs": [],
     "prompt_number": 8
    },
    {
     "cell_type": "code",
     "collapsed": false,
     "input": [
      "# Comprobamos con algunos valores en [0,1]\n",
      "f(0.0)   \n",
      "#valor obtenido con Mathematica 0.5641895835477562869480794515607725858440506293289988dst"
     ],
     "language": "python",
     "metadata": {},
     "outputs": [
      {
       "metadata": {},
       "output_type": "pyout",
       "prompt_number": 9,
       "text": [
        "0.564189583547756"
       ]
      }
     ],
     "prompt_number": 9
    },
    {
     "cell_type": "code",
     "collapsed": false,
     "input": [
      "# Comprobamos con algunos valores en [0,1]\n",
      "f(0.0)   \n",
      "#valor obtenido con Mathematica 0.5641895835477562869480794515607725858440506293289988"
     ],
     "language": "python",
     "metadata": {},
     "outputs": [
      {
       "metadata": {},
       "output_type": "pyout",
       "prompt_number": 10,
       "text": [
        "0.564189583547756"
       ]
      }
     ],
     "prompt_number": 10
    },
    {
     "cell_type": "code",
     "collapsed": false,
     "input": [
      "f(0.5)\n",
      "#valor obtenido con Mathematica  0.439391"
     ],
     "language": "python",
     "metadata": {},
     "outputs": [
      {
       "metadata": {},
       "output_type": "pyout",
       "prompt_number": 11,
       "text": [
        "0.439391289467722"
       ]
      }
     ],
     "prompt_number": 11
    },
    {
     "cell_type": "markdown",
     "metadata": {},
     "source": [
      "Calculamos para $n$ dado, la suma $S_n$"
     ]
    },
    {
     "cell_type": "code",
     "collapsed": false,
     "input": [
      "def Suma(n):\n",
      "    p_n= np.arange(0,n+1)/float(n)\n",
      "    suma = 0.0\n",
      "    for k in range(1,n+1,1):\n",
      "        suma = suma + (p_n[k]-p_n[k-1])*f((p_n[k]+p_n[k-1])/2.)\n",
      "        k += 1\n",
      "    print \"Valor de S_%s = %s\"%(n,suma)"
     ],
     "language": "python",
     "metadata": {},
     "outputs": [],
     "prompt_number": 13
    },
    {
     "cell_type": "code",
     "collapsed": false,
     "input": [
      "Suma(1)"
     ],
     "language": "python",
     "metadata": {},
     "outputs": [
      {
       "output_type": "stream",
       "stream": "stdout",
       "text": [
        "Valor de S_1 = 0.439391289467722\n"
       ]
      }
     ],
     "prompt_number": 14
    },
    {
     "cell_type": "code",
     "collapsed": false,
     "input": [
      "Suma(10)"
     ],
     "language": "python",
     "metadata": {},
     "outputs": [
      {
       "output_type": "stream",
       "stream": "stdout",
       "text": [
        "Valor de S_10 = 0.421523458772312\n"
       ]
      }
     ],
     "prompt_number": 15
    },
    {
     "cell_type": "code",
     "collapsed": false,
     "input": [
      "Suma(1000)"
     ],
     "language": "python",
     "metadata": {},
     "outputs": [
      {
       "output_type": "stream",
       "stream": "stdout",
       "text": [
        "Valor de S_1000 = 0.421350413771004\n"
       ]
      }
     ],
     "prompt_number": 16
    },
    {
     "cell_type": "markdown",
     "metadata": {},
     "source": [
      "Desde las librer\u00edas de python podemos calcular la integral num\u00e9ricamente. Utilizamos `quad` de `scipy.integrate`:"
     ]
    },
    {
     "cell_type": "code",
     "collapsed": false,
     "input": [
      "from scipy.integrate import quad\n",
      "from scipy import pi, sqrt, exp, cos"
     ],
     "language": "python",
     "metadata": {},
     "outputs": [],
     "prompt_number": 1
    },
    {
     "cell_type": "code",
     "collapsed": false,
     "input": [
      "def integrando(x):\n",
      "    return 1/sqrt(pi) * exp(-x**2)  "
     ],
     "language": "python",
     "metadata": {},
     "outputs": [],
     "prompt_number": 2
    },
    {
     "cell_type": "code",
     "collapsed": false,
     "input": [
      "integral, error = quad(integrando, 0, 1)\n",
      "print \"El valor de la integral es:\", integral, \"con error aproximado de:\", error,\".\""
     ],
     "language": "python",
     "metadata": {},
     "outputs": [
      {
       "output_type": "stream",
       "stream": "stdout",
       "text": [
        "El valor de la integral es: 0.421350396475 con error aproximado de: 4.67792911601e-15 .\n"
       ]
      }
     ],
     "prompt_number": 4
    },
    {
     "cell_type": "markdown",
     "metadata": {},
     "source": [
      "**3.** \n",
      "\n",
      "a. Dibuja la funci\u00f3n \n",
      "$$\n",
      "f(x) = x^{-1} \\cos \\left( x^{-1} \\log{x} \\right)\n",
      "$$\n",
      "en el intervalo [0,1].\n",
      "\n",
      "b. Calcula ahora el *valor num\u00e9rico* de\n",
      "$$\n",
      "\\lim_{\\epsilon\\to 0} \\int_\\epsilon^1 f(x) \\, dx\n",
      "$$\n",
      "\n",
      "c. \u00bfC\u00f3mo podr\u00edas verificar si el valor num\u00e9rico que obtuviste es correcto en 10 decimales?"
     ]
    },
    {
     "cell_type": "markdown",
     "metadata": {},
     "source": [
      "*[Respuestas aqu\u00ed]*"
     ]
    },
    {
     "cell_type": "markdown",
     "metadata": {},
     "source": [
      "Definimos nuevamenta la funci\u00f3n $f(x)$ en t\u00e9rmino de funciones de `scipy`:"
     ]
    },
    {
     "cell_type": "code",
     "collapsed": false,
     "input": [
      "from scipy import cos, log\n",
      "def f(x):\n",
      "    return 1./x * cos(1./x *log(x))"
     ],
     "language": "python",
     "metadata": {},
     "outputs": [],
     "prompt_number": 9
    },
    {
     "cell_type": "code",
     "collapsed": false,
     "input": [
      "#Pre\u00e1mbulo para graficar\n",
      "%matplotlib inline\n",
      "from matplotlib import pyplot as plt\n",
      "#fig, ax = plt.subplots()\n",
      "import numpy as np"
     ],
     "language": "python",
     "metadata": {},
     "outputs": [],
     "prompt_number": 42
    },
    {
     "cell_type": "code",
     "collapsed": false,
     "input": [
      "#Generamos las parejas (x,y) para graficar.\n",
      "x = np.linspace(.01, .5, 100)\n",
      "y = [f(valor) for valor in x]"
     ],
     "language": "python",
     "metadata": {},
     "outputs": [],
     "prompt_number": 43
    },
    {
     "cell_type": "code",
     "collapsed": false,
     "input": [
      "#Graficamos\n",
      "plt.plot(x, y,'-')\n",
      "plt.xlabel(\"$x$\", fontsize=25)\n",
      "plt.ylabel(\"$f(x)$\", fontsize=25)"
     ],
     "language": "python",
     "metadata": {},
     "outputs": [
      {
       "metadata": {},
       "output_type": "pyout",
       "prompt_number": 44,
       "text": [
        "<matplotlib.text.Text at 0x7bfb400>"
       ]
      },
      {
       "metadata": {},
       "output_type": "display_data",
       "png": "[encoded data removed]",
       "text": [
        "<matplotlib.figure.Figure at 0x7beabe0>"
       ]
      }
     ],
     "prompt_number": 44
    },
    {
     "cell_type": "markdown",
     "metadata": {},
     "source": [
      "3.c. Tratamos de calcular el valor num\u00e9rico de la integral."
     ]
    },
    {
     "cell_type": "code",
     "collapsed": false,
     "input": [
      "from scipy.integrate import quad\n",
      "from scipy import pi, sqrt, exp, cos\n",
      "import numpy as np"
     ],
     "language": "python",
     "metadata": {},
     "outputs": [],
     "prompt_number": 6
    },
    {
     "cell_type": "code",
     "collapsed": false,
     "input": [
      "num_puntos = 50\n",
      "dominio = np.linspace(1,0,num_puntos)\n",
      "\n",
      "def calculo_integral(dominio):\n",
      "    valor_integral = np.linspace(0,0,len(dominio))\n",
      "    error = np.linspace(0,0,len(dominio))\n",
      "    for i in xrange(0,len(dominio)):\n",
      "        \n",
      "        valor_integral[i], error[i] = quad(f, dominio[i], 1.0)\n",
      "        \n",
      "    return [valor_integral,error]"
     ],
     "language": "python",
     "metadata": {},
     "outputs": [],
     "prompt_number": 48
    },
    {
     "cell_type": "code",
     "collapsed": false,
     "input": [
      "calculo_integral(dominio)"
     ],
     "language": "python",
     "metadata": {},
     "outputs": [
      {
       "metadata": {},
       "output_type": "pyout",
       "prompt_number": 49,
       "text": [
        "[array([ 0.        ,  0.02061778,  0.04165986,  0.06313269,  0.08504085,\n",
        "        0.10738641,  0.13016828,  0.15338123,  0.17701485,  0.20105211,\n",
        "        0.22546768,  0.25022578,  0.27527753,  0.30055769,  0.32598059,\n",
        "        0.3514351 ,  0.37677847,  0.40182868,  0.42635521,  0.45006776,\n",
        "        0.47260282,  0.49350796,  0.51222388,  0.52806515,  0.54020112,\n",
        "        0.54764095,  0.54922944,  0.54366637,  0.529571  ,  0.50562761,\n",
        "        0.47086887,  0.4251787 ,  0.37011452,  0.3101191 ,  0.25400477,\n",
        "        0.21599599,  0.21417873,  0.26173397,  0.34541414,  0.39975837,\n",
        "        0.34253833,  0.26586166,  0.36368812,  0.28466544,  0.31314484,\n",
        "        0.30746431,  0.33947836,  0.32514905,  0.32674367,  1.27167414]),\n",
        " array([  0.00000000e+00,   2.28903343e-16,   4.62517317e-16,\n",
        "         7.00913657e-16,   9.44143049e-16,   1.19222867e-15,\n",
        "         1.44515818e-15,   1.70287373e-15,   1.96525960e-15,\n",
        "         2.23212681e-15,   2.50319409e-15,   2.77806419e-15,\n",
        "         3.05619449e-15,   3.33686065e-15,   3.61911151e-15,\n",
        "         3.90171338e-15,   4.18308128e-15,   4.46119454e-15,\n",
        "         4.73349374e-15,   4.99675589e-15,   5.24694534e-15,\n",
        "         5.47903895e-15,   5.68682747e-15,   5.86270086e-15,\n",
        "         1.99203154e-14,   1.65045323e-13,   1.24673101e-12,\n",
        "         8.64031133e-12,   5.62910729e-11,   3.45477630e-10,\n",
        "         1.96959017e-09,   1.01102000e-08,   4.86575374e-13,\n",
        "         7.56769501e-12,   2.20558123e-10,   8.73125941e-10,\n",
        "         3.05009701e-09,   1.25449751e-12,   2.12443239e-12,\n",
        "         1.99391807e-09,   2.82158369e-13,   7.54935175e-12,\n",
        "         4.15201771e-09,   6.63954904e-12,   1.79508178e-14,\n",
        "         1.08478654e-09,   1.00447559e-10,   4.11286065e-11,\n",
        "         1.37847438e-08,   1.92761669e+00])]"
       ]
      }
     ],
     "prompt_number": 49
    },
    {
     "cell_type": "markdown",
     "metadata": {},
     "source": [
      "Probamos con el dominio $\\left[\\frac{1}{2^{n}},1\\right]$ cuando $n\\rightarrow\\infty$. Para fines pr\u00e1cticos n lo hacemos hasta 20."
     ]
    },
    {
     "cell_type": "code",
     "collapsed": false,
     "input": [
      "dominio2 = [1/(2**i) for i in np.linspace(1,50,50)]\n",
      "calculo_integral(dominio2)"
     ],
     "language": "python",
     "metadata": {},
     "outputs": [
      {
       "metadata": {},
       "output_type": "pyout",
       "prompt_number": 50,
       "text": [
        "[array([ 0.54457648,  0.24520603,  0.29236022,  0.32917178,  0.31772012,\n",
        "        0.32568328,  0.32226093,  0.34618213,  0.27009895,  0.38778262,\n",
        "        0.52621384,  0.57318485,  0.13353231,  0.6293535 ,  0.38906747,\n",
        "        1.31300933,  0.72349753,  1.20879277, -0.73714398, -1.72291557,\n",
        "       -0.62243601, -0.41533893,  1.64455149,  1.98021588, -0.93367125,\n",
        "        1.65789079,  0.91448309,  3.07374404,  0.30395298, -2.79552249,\n",
        "        0.34138392,  2.41122022,  1.55616664,  1.32829884, -0.62742446,\n",
        "       -2.04038128,  0.88758262,  1.15382629,  4.48940217,  1.29817066,\n",
        "        1.31237551,  3.08939116,  1.36004081,  1.35791846,  1.31916602,\n",
        "        1.27576723,  1.26731283,  1.26845636,  1.26989031,  1.27074823]),\n",
        " array([  5.80811990e-14,   1.14718485e-08,   3.52831979e-12,\n",
        "         2.20998919e-10,   8.17841139e-09,   6.58906662e-09,\n",
        "         4.27681194e-04,   2.80258300e-01,   9.73629658e-02,\n",
        "         2.63093108e-01,   2.79106067e-01,   3.29560623e-01,\n",
        "         8.75278333e-01,   2.82747389e-01,   5.08637360e-01,\n",
        "         1.33696624e+00,   7.86507139e-01,   9.87804982e-01,\n",
        "         2.68925903e-01,   5.93006560e+00,   9.83749104e-01,\n",
        "         1.87727246e-01,   3.12725885e-01,   5.81381288e+00,\n",
        "         7.16163947e-02,   9.91349375e-02,   7.21955565e+00,\n",
        "         9.93705066e+00,   1.14552215e+00,   9.77025966e+00,\n",
        "         5.25488278e-01,   1.84572244e+00,   3.69984768e-01,\n",
        "         4.39792304e+00,   1.73809850e+00,   8.80350406e+00,\n",
        "         2.13343313e+00,   1.25362745e+00,   9.38187680e+00,\n",
        "         2.66095944e+00,   2.42020021e+00,   7.15572964e+00,\n",
        "         1.92186697e+00,   1.79848674e+00,   1.83399395e+00,\n",
        "         1.94021026e+00,   1.95322582e+00,   1.94355267e+00,\n",
        "         1.93611427e+00,   1.93196865e+00])]"
       ]
      }
     ],
     "prompt_number": 50
    },
    {
     "cell_type": "markdown",
     "metadata": {},
     "source": [
      "Observamos que el valor de la integral no parece converger a un n\u00famero en particular. Al acercarnos poco a poco a cero observamos tambi\u00e9n que el error, segundo arreglo, crece cada vez m\u00e1s. Esto nos indica una muy mala aproximaci\u00f3n de la integral.\n",
      "\n",
      "Observamos que estos c\u00e1lculos est\u00e1n hechos con la presici\u00f3n por defecto de 15. Podemos calcular integrales con presici\u00f3n arbitraria usando la funci\u00f3n `quad` de `mpmath`, sin embargo no nos regresa el error en el c\u00e1lculo."
     ]
    },
    {
     "cell_type": "code",
     "collapsed": false,
     "input": [
      "import sympy.mpmath as mpm\n",
      "from sympy.mpmath import *\n",
      "import numpy as np"
     ],
     "language": "python",
     "metadata": {},
     "outputs": [],
     "prompt_number": 51
    },
    {
     "cell_type": "code",
     "collapsed": false,
     "input": [
      "num_puntos = 1000\n",
      "dominio = np.linspace(1,0,num_puntos)\n",
      "\n",
      "def calculo_integral_mpmath(dominio,presicion):\n",
      "    valor_integral = np.linspace(0,0,len(dominio))\n",
      "    error = np.linspace(0,0,len(dominio))\n",
      "    \n",
      "    for i in xrange(0,len(dominio)):\n",
      "        mp.dps = presicion\n",
      "        valor_integral[i] = quad(lambda x: 1./x * mpm.cos(1./x * mpm.log(x)),[dominio[i],1])\n",
      "        \n",
      "    return valor_integral"
     ],
     "language": "python",
     "metadata": {},
     "outputs": [],
     "prompt_number": 52
    },
    {
     "cell_type": "code",
     "collapsed": false,
     "input": [
      "calculo_integral_mpmath(dominio, 15)[-40:]"
     ],
     "language": "python",
     "metadata": {},
     "outputs": [
      {
       "metadata": {},
       "output_type": "pyout",
       "prompt_number": 42,
       "text": [
        "array([ 0.33240404,  0.3153854 ,  0.3306781 ,  0.31592741,  0.33130194,\n",
        "        0.3160812 ,  0.32658616,  0.32744746,  0.31691941,  0.3202428 ,\n",
        "        0.32698662,  0.32923297,  0.32921016,  0.32855584,  0.32491267,\n",
        "        0.31852603,  0.32540178,  0.32127651,  0.32768369,  0.32557378,\n",
        "        0.32656048,  0.32388536,  0.32402827,  0.28161358, -0.10967068,\n",
        "       -0.028112  ,  0.50963317,  0.34959514,  0.16323915,  0.42656955,\n",
        "        0.50776353,  0.28334592,  0.14565335,  0.4910122 ,  0.32835133,\n",
        "       -0.15453338,  0.7788787 ,  0.32678803, -0.06084958, -1.62360957])"
       ]
      }
     ],
     "prompt_number": 42
    },
    {
     "cell_type": "code",
     "collapsed": false,
     "input": [
      "calculo_integral_mpmath(dominio, 30)[-40:]"
     ],
     "language": "python",
     "metadata": {},
     "outputs": [
      {
       "metadata": {},
       "output_type": "pyout",
       "prompt_number": 34,
       "text": [
        "array([ 0.33240404,  0.3153854 ,  0.3306781 ,  0.31592741,  0.33130194,\n",
        "        0.3160812 ,  0.32658616,  0.32744746,  0.31691941,  0.3202428 ,\n",
        "        0.32698662,  0.32923297,  0.32921016,  0.32855584,  0.32491267,\n",
        "        0.31852603,  0.32540178,  0.32127651,  0.32768369,  0.32557378,\n",
        "        0.32656031,  0.32389753,  0.32530366,  0.32489753,  0.32328503,\n",
        "        0.32391408,  0.32482092,  0.32220964,  0.32512744,  0.32516514,\n",
        "        0.66470614,  0.16254578,  0.1840627 ,  0.48968446,  0.24384728,\n",
        "        0.31375853,  0.30532427,  0.35361432,  0.30111486, -1.57594862])"
       ]
      }
     ],
     "prompt_number": 34
    },
    {
     "cell_type": "code",
     "collapsed": false,
     "input": [
      "calculo_integral_mpmath(dominio, 60)[-40:]"
     ],
     "language": "python",
     "metadata": {},
     "outputs": [
      {
       "metadata": {},
       "output_type": "pyout",
       "prompt_number": 35,
       "text": [
        "array([ 0.33240404,  0.3153854 ,  0.3306781 ,  0.31592741,  0.33130194,\n",
        "        0.3160812 ,  0.32658616,  0.32744746,  0.31691941,  0.3202428 ,\n",
        "        0.32698662,  0.32923297,  0.32921016,  0.32855584,  0.32491267,\n",
        "        0.31852603,  0.32540178,  0.32127651,  0.32768369,  0.32557378,\n",
        "        0.32656031,  0.32389753,  0.32530366,  0.32489753,  0.32328503,\n",
        "        0.32391408,  0.32482092,  0.32220964,  0.32512744,  0.32507958,\n",
        "        0.32486562,  0.32286197,  0.32230748,  0.32310174,  0.41290406,\n",
        "        0.45837556,  0.2680011 ,  0.28300126,  0.45191405,  0.65294652])"
       ]
      }
     ],
     "prompt_number": 35
    },
    {
     "cell_type": "code",
     "collapsed": false,
     "input": [
      "calculo_integral_mpmath(dominio, 90)[-40:]"
     ],
     "language": "python",
     "metadata": {},
     "outputs": [
      {
       "metadata": {},
       "output_type": "pyout",
       "prompt_number": 37,
       "text": [
        "array([ 0.33240404,  0.3153854 ,  0.3306781 ,  0.31592741,  0.33130194,\n",
        "        0.3160812 ,  0.32658616,  0.32744746,  0.31691941,  0.3202428 ,\n",
        "        0.32698662,  0.32923297,  0.32921016,  0.32855584,  0.32491267,\n",
        "        0.31852603,  0.32540178,  0.32127651,  0.32768369,  0.32557378,\n",
        "        0.32656031,  0.32389753,  0.32530366,  0.32489753,  0.32328503,\n",
        "        0.32391408,  0.32482092,  0.32220964,  0.32512744,  0.32507958,\n",
        "        0.32486562,  0.32286197,  0.32230748,  0.3231017 ,  0.32361271,\n",
        "        0.32362056,  0.26963352,  0.26198285,  0.55699181, -0.81607868])"
       ]
      }
     ],
     "prompt_number": 37
    },
    {
     "cell_type": "code",
     "collapsed": false,
     "input": [
      "# C\u00e1lculo de la integral de 0 a 1.\n",
      "for i in [15,30,60,90,120]:\n",
      "    print calculo_integral_mpmath([0],i)"
     ],
     "language": "python",
     "metadata": {},
     "outputs": [
      {
       "output_type": "stream",
       "stream": "stdout",
       "text": [
        "[-1.62360957]\n",
        "[-1.57594862]"
       ]
      },
      {
       "output_type": "stream",
       "stream": "stdout",
       "text": [
        "\n",
        "[ 0.65294652]"
       ]
      },
      {
       "output_type": "stream",
       "stream": "stdout",
       "text": [
        "\n",
        "[-0.81607868]"
       ]
      },
      {
       "output_type": "stream",
       "stream": "stdout",
       "text": [
        "\n",
        "[-5.99337861]"
       ]
      },
      {
       "output_type": "stream",
       "stream": "stdout",
       "text": [
        "\n"
       ]
      }
     ],
     "prompt_number": 38
    },
    {
     "cell_type": "markdown",
     "metadata": {},
     "source": [
      "Recurrimos a wolfram alpha para comparar nuestros resultados y obtenemos al ejecutar `Integrate[1/x *Cos[Log[x]/x], {x, 0, 1}]` que el valor aproximado es  0.323367.\n",
      "\n",
      "Entonces, al analizar nuestros resultados observamos que con la presici\u00f3n que manejamos nos mantenemos bastante cerca de este n\u00famero. Sin embargo a partir de cierto momento, estando m\u00e1s cerca a cero cada vez, la aproximaci\u00f3n de la integral en python se aleja del valor de wolfram alpha."
     ]
    },
    {
     "cell_type": "markdown",
     "metadata": {},
     "source": [
      "**3.c.** Para ver que nuestra aproximaci\u00f3n es correcta a 10 decimales podemos observar el error que nos dice la funci\u00f3n `sympy.integrate.quad` y checar que se mantenga m\u00e1s peque\u00f1o que 1e-10, lo cual no lo logramos al intergrar cada vez m\u00e1s cerca de 0."
     ]
    },
    {
     "cell_type": "markdown",
     "metadata": {},
     "source": [
      "**4.**\n",
      "\n",
      "Completa las operaciones aritm\u00e9ticas (resta, multiplicaci\u00f3n y divisi\u00f3n) para la clase `Intervalo` que definimos en clase."
     ]
    },
    {
     "cell_type": "markdown",
     "metadata": {},
     "source": [
      "*[Respuestas aqu\u00ed]*\n"
     ]
    },
    {
     "cell_type": "code",
     "collapsed": false,
     "input": [
      "class Intervalo(object):\n",
      "    def __init__(self, lo, hi=None):\n",
      "        \n",
      "        if hi is None:\n",
      "            hi =  lo\n",
      "        elif(hi < lo):\n",
      "            lo, hi = hi, lo\n",
      "            \n",
      "        self.lo = lo\n",
      "        self.hi = hi\n",
      "        \n",
      "        \n",
      "    def __repr__(self):\n",
      "        #return \"Intervalo(%s, %s)\" % (self.lo, self.hi)\n",
      "        return \"Intervalo({}, {})\".format(self.lo, self.hi)\n",
      "    \n",
      "    def __str__(self):\n",
      "        return \"[{}, {}]\".format(self.lo, self.hi)\n",
      "        \n",
      "    # Para el IPython notebook:\n",
      "    def _repr_html_(self):\n",
      "        return \"[{}, {}]\".format(self.lo, self.hi)\n",
      "    \n",
      "#     def _repr_latex_(self):\n",
      "#         return \"$[{}^{}]$\".format(self.lo, self.hi)\n",
      "\n",
      "    def __add__(self, otro):\n",
      "        return Intervalo(self.lo + otro.lo, self.hi + otro.hi)\n",
      "    \n",
      "    def __radd__(self, otro):\n",
      "        return self + otro\n",
      "    \n",
      "    def __sub__(self, otro):\n",
      "        if (self.lo == otro.lo) & (self.hi == otro.hi):\n",
      "            return Intervalo(0,0)\n",
      "        else:\n",
      "            return Intervalo(self.lo - otro.hi, self.hi - otro.lo)\n",
      "        \n",
      "    def __mul__(self, otro):\n",
      "        productos = [self.lo*otro.lo, self.lo*otro.hi, self.hi*otro.lo, self.hi*otro.hi]\n",
      "        return Intervalo(min(productos),max(productos))\n",
      "    def __div__(self, otro):\n",
      "        if otro.lo < 0 and otro.hi > 0:\n",
      "            print \"0 no puede pertenecer al intervalo del denominador\"\n",
      "        else:\n",
      "            from sympy import Rational ### puede ser solo 1./float(otro.hi), 1./float(otro.lo)\n",
      "            return Intervalo(self.lo,self.hi)*Intervalo(Rational(1,otro.hi),Rational(1,otro.lo))"
     ],
     "language": "python",
     "metadata": {},
     "outputs": [],
     "prompt_number": 32
    },
    {
     "cell_type": "code",
     "collapsed": false,
     "input": [
      "i=Intervalo(1,2)\n",
      "j=Intervalo(3,4)\n",
      "k=Intervalo(-1,2)\n",
      "l=Intervalo(-3,4)\n",
      "m=Intervalo(-5,6)\n",
      "n=Intervalo(0,7)\n",
      "o=Intervalo(-7,0)\n",
      "p=Intervalo(1)"
     ],
     "language": "python",
     "metadata": {},
     "outputs": [],
     "prompt_number": 33
    },
    {
     "cell_type": "code",
     "collapsed": false,
     "input": [
      "#Probando con algunos calculos:\n",
      "i*j, i*k, j*m, j*n, j*o, k*m , k*n, k*o, i/p, o/p, i/j, j/j, k/j, "
     ],
     "language": "python",
     "metadata": {},
     "outputs": [
      {
       "metadata": {},
       "output_type": "pyout",
       "prompt_number": 34,
       "text": [
        "(Intervalo(3, 8),\n",
        " Intervalo(-2, 4),\n",
        " Intervalo(-20, 24),\n",
        " Intervalo(0, 28),\n",
        " Intervalo(-28, 0),\n",
        " Intervalo(-10, 12),\n",
        " Intervalo(-7, 14),\n",
        " Intervalo(-14, 7),\n",
        " Intervalo(1, 2),\n",
        " Intervalo(-7, 0),\n",
        " Intervalo(1/4, 2/3),\n",
        " Intervalo(3/4, 4/3),\n",
        " Intervalo(-1/3, 2/3))"
       ]
      }
     ],
     "prompt_number": 34
    },
    {
     "cell_type": "code",
     "collapsed": false,
     "input": [
      "i/k"
     ],
     "language": "python",
     "metadata": {},
     "outputs": [
      {
       "output_type": "stream",
       "stream": "stdout",
       "text": [
        "0 no puede pertenecer al intervalo del denominador\n"
       ]
      }
     ],
     "prompt_number": 35
    }
   ],
   "metadata": {}
  }
 ]
}