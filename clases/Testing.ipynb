{
 "metadata": {
  "name": "Testing"
 },
 "nbformat": 3,
 "nbformat_minor": 0,
 "worksheets": [
  {
   "cells": [
    {
     "cell_type": "code",
     "collapsed": false,
     "input": [
      "ls"
     ],
     "language": "python",
     "metadata": {},
     "outputs": [
      {
       "output_type": "stream",
       "stream": "stdout",
       "text": [
        "01 Introducci\u00f3n a Python.ipynb                      08 Excepciones.ipynb\r\n",
        "02 El paquete numpy para vectores y matrices.ipynb  09 Manejando git.ipynb\r\n",
        "03 Matplotlib, sympy, mpmath.ipynb                  clase-12-agosto-2013.ipynb\r\n",
        "04 Aritm\u00e9tica con intervalos.ipynb                  hola.py\r\n",
        "05a Intervalos como objetos.ipynb                   intervalo.py\r\n",
        "05b Intervalos como objetos II.ipynb                libpeerconnection.log\r\n",
        "06a_AritmeticaIntervalos-Cont.ipynb                 Testing.ipynb\r\n",
        "06b M\u00e1s operaciones con intervalos.ipynb            test_intervalo.py\r\n",
        "07 A\u00fan m\u00e1s operaciones interv\u00e1licas.ipynb\r\n"
       ]
      }
     ],
     "prompt_number": 1
    },
    {
     "cell_type": "code",
     "collapsed": false,
     "input": [
      "%load intervalo.py"
     ],
     "language": "python",
     "metadata": {},
     "outputs": [],
     "prompt_number": 2
    },
    {
     "cell_type": "code",
     "collapsed": false,
     "input": [
      "\n",
      "class Intervalo(object):\n",
      "    # Docstring\n",
      "    \"\"\"\n",
      "    Se define la clase 'Intervalo', y los m\u00e9todos para la aritm\u00e9tica b\u00e1sica de intervalos, \n",
      "    es decir, suma, resta, multiplicaci\u00f3n y divisi\u00f3n. Se incluyen otras funciones\n",
      "    que ser\u00e1n \u00fatiles.\n",
      "    \"\"\"\n",
      "    def __init__(self,lo,hi=None):\n",
      "        \"\"\" \n",
      "        Definimos las propiedades del objeto Intervalo a partir de sus bordes,\n",
      "        lo y hi, donde lo <= hi. En el caso en que el intervalo s\u00f3lo tenga\n",
      "        un n\u00famero, \u00e9ste se interpreta como un intervalo 'delgado' o 'degenerado'.\n",
      "        \"\"\"\n",
      "        if hi is None:\n",
      "            hi = lo\n",
      "        elif (hi < lo):\n",
      "            lo, hi = hi, lo\n",
      "        \n",
      "        self.lo = lo\n",
      "        self.hi = hi\n",
      "        \n",
      "    def __repr__(self):\n",
      "        return \"Intervalo ({},{})\".format(self.lo,self.hi)\n",
      "    \n",
      "    def __str__(self):\n",
      "        # Esta funci\u00f3n sirve con 'print'\n",
      "        return \"[{},{}]\".format(self.lo,self.hi)\n",
      "\n",
      "    def _repr_html_(self):\n",
      "        return \"[{}, {}]\".format(self.lo, self.hi)\n",
      "    \n",
      "    def _repr_latex_(self):\n",
      "        return \"$[{}^{}]$\".format(self.lo, self.hi)\n",
      "\n",
      "    # Aqu\u00ed vienen las operaciones aritm\u00e9ticas\n",
      "    def __add__(self, otro):\n",
      "        \"\"\"\n",
      "        Suma de intervalos\n",
      "        \"\"\"\n",
      "        try:\n",
      "            return Intervalo(self.lo + otro.lo, self.hi + otro.hi)\n",
      "        except:\n",
      "            return self + Intervalo(otro)\n",
      "\n",
      "    def __radd__(self, otro):\n",
      "        return self + otro\n",
      "\n"
     ],
     "language": "python",
     "metadata": {},
     "outputs": []
    },
    {
     "cell_type": "code",
     "collapsed": false,
     "input": [],
     "language": "python",
     "metadata": {},
     "outputs": []
    }
   ],
   "metadata": {}
  }
 ]
}