{
 "metadata": {
  "name": ""
 },
 "nbformat": 3,
 "nbformat_minor": 0,
 "worksheets": [
  {
   "cells": [
    {
     "cell_type": "markdown",
     "metadata": {},
     "source": [
      "Vimos que ni una lista, ni una tupla son adecuadas para usarse como vectores matem\u00e1ticos:"
     ]
    },
    {
     "cell_type": "code",
     "collapsed": false,
     "input": [
      "l = [1, 2]\n",
      "l * 2"
     ],
     "language": "python",
     "metadata": {},
     "outputs": [
      {
       "metadata": {},
       "output_type": "pyout",
       "prompt_number": 197,
       "text": [
        "[1, 2, 1, 2]"
       ]
      }
     ],
     "prompt_number": 197
    },
    {
     "cell_type": "code",
     "collapsed": false,
     "input": [
      "t = (1, 2)\n",
      "t * 2"
     ],
     "language": "python",
     "metadata": {},
     "outputs": [
      {
       "metadata": {},
       "output_type": "pyout",
       "prompt_number": 198,
       "text": [
        "(1, 2, 1, 2)"
       ]
      }
     ],
     "prompt_number": 198
    },
    {
     "cell_type": "code",
     "collapsed": false,
     "input": [
      "id(t)"
     ],
     "language": "python",
     "metadata": {},
     "outputs": [
      {
       "metadata": {},
       "output_type": "pyout",
       "prompt_number": 199,
       "text": [
        "4546826320"
       ]
      }
     ],
     "prompt_number": 199
    },
    {
     "cell_type": "code",
     "collapsed": false,
     "input": [
      "t[0]"
     ],
     "language": "python",
     "metadata": {},
     "outputs": [
      {
       "metadata": {},
       "output_type": "pyout",
       "prompt_number": 200,
       "text": [
        "1"
       ]
      }
     ],
     "prompt_number": 200
    },
    {
     "cell_type": "code",
     "collapsed": false,
     "input": [
      "t[0] = 17"
     ],
     "language": "python",
     "metadata": {},
     "outputs": [
      {
       "ename": "TypeError",
       "evalue": "'tuple' object does not support item assignment",
       "output_type": "pyerr",
       "traceback": [
        "\u001b[0;31m---------------------------------------------------------------------------\u001b[0m\n\u001b[0;31mTypeError\u001b[0m                                 Traceback (most recent call last)",
        "\u001b[0;32m<ipython-input-201-0c01c4940c68>\u001b[0m in \u001b[0;36m<module>\u001b[0;34m()\u001b[0m\n\u001b[0;32m----> 1\u001b[0;31m \u001b[0mt\u001b[0m\u001b[0;34m[\u001b[0m\u001b[0;36m0\u001b[0m\u001b[0;34m]\u001b[0m \u001b[0;34m=\u001b[0m \u001b[0;36m17\u001b[0m\u001b[0;34m\u001b[0m\u001b[0m\n\u001b[0m",
        "\u001b[0;31mTypeError\u001b[0m: 'tuple' object does not support item assignment"
       ]
      }
     ],
     "prompt_number": 201
    },
    {
     "cell_type": "code",
     "collapsed": false,
     "input": [
      "t = (3, 4)"
     ],
     "language": "python",
     "metadata": {},
     "outputs": [],
     "prompt_number": 202
    },
    {
     "cell_type": "code",
     "collapsed": false,
     "input": [
      "id(t)"
     ],
     "language": "python",
     "metadata": {},
     "outputs": [
      {
       "metadata": {},
       "output_type": "pyout",
       "prompt_number": 203,
       "text": [
        "4546828912"
       ]
      }
     ],
     "prompt_number": 203
    },
    {
     "cell_type": "code",
     "collapsed": false,
     "input": [
      "l"
     ],
     "language": "python",
     "metadata": {},
     "outputs": [
      {
       "metadata": {},
       "output_type": "pyout",
       "prompt_number": 204,
       "text": [
        "[1, 2]"
       ]
      }
     ],
     "prompt_number": 204
    },
    {
     "cell_type": "code",
     "collapsed": false,
     "input": [
      "id(l)\n"
     ],
     "language": "python",
     "metadata": {},
     "outputs": [
      {
       "metadata": {},
       "output_type": "pyout",
       "prompt_number": 205,
       "text": [
        "4562441784"
       ]
      }
     ],
     "prompt_number": 205
    },
    {
     "cell_type": "code",
     "collapsed": false,
     "input": [
      "l[:] = [17, 17]"
     ],
     "language": "python",
     "metadata": {},
     "outputs": [],
     "prompt_number": 206
    },
    {
     "cell_type": "code",
     "collapsed": false,
     "input": [
      "l"
     ],
     "language": "python",
     "metadata": {},
     "outputs": [
      {
       "metadata": {},
       "output_type": "pyout",
       "prompt_number": 207,
       "text": [
        "[17, 17]"
       ]
      }
     ],
     "prompt_number": 207
    },
    {
     "cell_type": "code",
     "collapsed": false,
     "input": [
      "id(l)"
     ],
     "language": "python",
     "metadata": {},
     "outputs": [
      {
       "metadata": {},
       "output_type": "pyout",
       "prompt_number": 208,
       "text": [
        "4562441784"
       ]
      }
     ],
     "prompt_number": 208
    },
    {
     "cell_type": "code",
     "collapsed": false,
     "input": [
      "a = 3"
     ],
     "language": "python",
     "metadata": {},
     "outputs": [],
     "prompt_number": 209
    },
    {
     "cell_type": "code",
     "collapsed": false,
     "input": [
      "id(a)"
     ],
     "language": "python",
     "metadata": {},
     "outputs": [
      {
       "metadata": {},
       "output_type": "pyout",
       "prompt_number": 210,
       "text": [
        "140372563003896"
       ]
      }
     ],
     "prompt_number": 210
    },
    {
     "cell_type": "code",
     "collapsed": false,
     "input": [
      "b = a"
     ],
     "language": "python",
     "metadata": {},
     "outputs": [],
     "prompt_number": 211
    },
    {
     "cell_type": "code",
     "collapsed": false,
     "input": [
      "id(b)"
     ],
     "language": "python",
     "metadata": {},
     "outputs": [
      {
       "metadata": {},
       "output_type": "pyout",
       "prompt_number": 212,
       "text": [
        "140372563003896"
       ]
      }
     ],
     "prompt_number": 212
    },
    {
     "cell_type": "code",
     "collapsed": false,
     "input": [
      "b  = 4"
     ],
     "language": "python",
     "metadata": {},
     "outputs": [],
     "prompt_number": 213
    },
    {
     "cell_type": "code",
     "collapsed": false,
     "input": [
      "a"
     ],
     "language": "python",
     "metadata": {},
     "outputs": [
      {
       "metadata": {},
       "output_type": "pyout",
       "prompt_number": 214,
       "text": [
        "3"
       ]
      }
     ],
     "prompt_number": 214
    },
    {
     "cell_type": "code",
     "collapsed": false,
     "input": [
      "id(b)"
     ],
     "language": "python",
     "metadata": {},
     "outputs": [
      {
       "metadata": {},
       "output_type": "pyout",
       "prompt_number": 215,
       "text": [
        "140372563003872"
       ]
      }
     ],
     "prompt_number": 215
    },
    {
     "cell_type": "code",
     "collapsed": false,
     "input": [
      "a = [1, 2]\n",
      "b = a"
     ],
     "language": "python",
     "metadata": {},
     "outputs": [],
     "prompt_number": 216
    },
    {
     "cell_type": "code",
     "collapsed": false,
     "input": [
      "b"
     ],
     "language": "python",
     "metadata": {},
     "outputs": [
      {
       "metadata": {},
       "output_type": "pyout",
       "prompt_number": 217,
       "text": [
        "[1, 2]"
       ]
      }
     ],
     "prompt_number": 217
    },
    {
     "cell_type": "code",
     "collapsed": false,
     "input": [
      "b[0] = 17"
     ],
     "language": "python",
     "metadata": {},
     "outputs": [],
     "prompt_number": 218
    },
    {
     "cell_type": "code",
     "collapsed": false,
     "input": [
      "a"
     ],
     "language": "python",
     "metadata": {},
     "outputs": [
      {
       "metadata": {},
       "output_type": "pyout",
       "prompt_number": 219,
       "text": [
        "[17, 2]"
       ]
      }
     ],
     "prompt_number": 219
    },
    {
     "cell_type": "code",
     "collapsed": false,
     "input": [],
     "language": "python",
     "metadata": {},
     "outputs": [],
     "prompt_number": 219
    },
    {
     "cell_type": "heading",
     "level": 2,
     "metadata": {},
     "source": [
      "`numpy`: Vectores y matrices"
     ]
    },
    {
     "cell_type": "markdown",
     "metadata": {},
     "source": [
      "`numpy` es una biblioteca / m\u00f3dulo / librer\u00eda / paquete que provee vectores matem\u00e1ticos."
     ]
    },
    {
     "cell_type": "code",
     "collapsed": false,
     "input": [
      "l = [1., 2.]\n",
      "l + l"
     ],
     "language": "python",
     "metadata": {},
     "outputs": [
      {
       "metadata": {},
       "output_type": "pyout",
       "prompt_number": 220,
       "text": [
        "[1.0, 2.0, 1.0, 2.0]"
       ]
      }
     ],
     "prompt_number": 220
    },
    {
     "cell_type": "markdown",
     "metadata": {},
     "source": [
      "Para usarse, la biblioteca se tiene que *importar*:"
     ]
    },
    {
     "cell_type": "code",
     "collapsed": false,
     "input": [
      "import numpy"
     ],
     "language": "python",
     "metadata": {},
     "outputs": [],
     "prompt_number": 221
    },
    {
     "cell_type": "code",
     "collapsed": false,
     "input": [
      "numpy"
     ],
     "language": "python",
     "metadata": {},
     "outputs": [
      {
       "metadata": {},
       "output_type": "pyout",
       "prompt_number": 222,
       "text": [
        "<module 'numpy' from '/usr/local/Cellar/python/2.7.5/Frameworks/Python.framework/Versions/2.7/lib/python2.7/site-packages/numpy/__init__.pyc'>"
       ]
      }
     ],
     "prompt_number": 222
    },
    {
     "cell_type": "code",
     "collapsed": false,
     "input": [
      "numpy?"
     ],
     "language": "python",
     "metadata": {},
     "outputs": [],
     "prompt_number": 223
    },
    {
     "cell_type": "markdown",
     "metadata": {},
     "source": [
      "Objeto b\u00e1sico de `numpy`:"
     ]
    },
    {
     "cell_type": "code",
     "collapsed": false,
     "input": [
      "v = numpy.array([1., 2.])"
     ],
     "language": "python",
     "metadata": {},
     "outputs": [],
     "prompt_number": 224
    },
    {
     "cell_type": "code",
     "collapsed": false,
     "input": [
      "v"
     ],
     "language": "python",
     "metadata": {},
     "outputs": [
      {
       "metadata": {},
       "output_type": "pyout",
       "prompt_number": 225,
       "text": [
        "array([ 1.,  2.])"
       ]
      }
     ],
     "prompt_number": 225
    },
    {
     "cell_type": "code",
     "collapsed": false,
     "input": [
      "type(v)"
     ],
     "language": "python",
     "metadata": {},
     "outputs": [
      {
       "metadata": {},
       "output_type": "pyout",
       "prompt_number": 226,
       "text": [
        "numpy.ndarray"
       ]
      }
     ],
     "prompt_number": 226
    },
    {
     "cell_type": "code",
     "collapsed": false,
     "input": [
      "2 * v"
     ],
     "language": "python",
     "metadata": {},
     "outputs": [
      {
       "metadata": {},
       "output_type": "pyout",
       "prompt_number": 227,
       "text": [
        "array([ 2.,  4.])"
       ]
      }
     ],
     "prompt_number": 227
    },
    {
     "cell_type": "code",
     "collapsed": false,
     "input": [
      "v + v"
     ],
     "language": "python",
     "metadata": {},
     "outputs": [
      {
       "metadata": {},
       "output_type": "pyout",
       "prompt_number": 228,
       "text": [
        "array([ 2.,  4.])"
       ]
      }
     ],
     "prompt_number": 228
    },
    {
     "cell_type": "code",
     "collapsed": false,
     "input": [
      "sin(v)"
     ],
     "language": "python",
     "metadata": {},
     "outputs": [
      {
       "metadata": {},
       "output_type": "pyout",
       "prompt_number": 229,
       "text": [
        "array([ 0.84147098,  0.90929743])"
       ]
      }
     ],
     "prompt_number": 229
    },
    {
     "cell_type": "code",
     "collapsed": false,
     "input": [
      "sin"
     ],
     "language": "python",
     "metadata": {},
     "outputs": [
      {
       "metadata": {},
       "output_type": "pyout",
       "prompt_number": 230,
       "text": [
        "<ufunc 'sin'>"
       ]
      }
     ],
     "prompt_number": 230
    },
    {
     "cell_type": "code",
     "collapsed": false,
     "input": [
      "numpy.sin"
     ],
     "language": "python",
     "metadata": {},
     "outputs": [
      {
       "metadata": {},
       "output_type": "pyout",
       "prompt_number": 231,
       "text": [
        "<ufunc 'sin'>"
       ]
      }
     ],
     "prompt_number": 231
    },
    {
     "cell_type": "code",
     "collapsed": false,
     "input": [
      "numpy.sin(v)"
     ],
     "language": "python",
     "metadata": {},
     "outputs": [
      {
       "metadata": {},
       "output_type": "pyout",
       "prompt_number": 232,
       "text": [
        "array([ 0.84147098,  0.90929743])"
       ]
      }
     ],
     "prompt_number": 232
    },
    {
     "cell_type": "code",
     "collapsed": false,
     "input": [
      "numpy.dot"
     ],
     "language": "python",
     "metadata": {},
     "outputs": [
      {
       "metadata": {},
       "output_type": "pyout",
       "prompt_number": 233,
       "text": [
        "<function numpy.core.multiarray.dot>"
       ]
      }
     ],
     "prompt_number": 233
    },
    {
     "cell_type": "code",
     "collapsed": false,
     "input": [
      "numpy.dot(v, v)"
     ],
     "language": "python",
     "metadata": {},
     "outputs": [
      {
       "metadata": {},
       "output_type": "pyout",
       "prompt_number": 234,
       "text": [
        "5.0"
       ]
      }
     ],
     "prompt_number": 234
    },
    {
     "cell_type": "code",
     "collapsed": false,
     "input": [
      "numpy.cross(v, v)"
     ],
     "language": "python",
     "metadata": {},
     "outputs": [
      {
       "metadata": {},
       "output_type": "pyout",
       "prompt_number": 235,
       "text": [
        "0.0"
       ]
      }
     ],
     "prompt_number": 235
    },
    {
     "cell_type": "markdown",
     "metadata": {},
     "source": [
      "Ver todas las variables (nombres) que est\u00e1n disponibles:"
     ]
    },
    {
     "cell_type": "code",
     "collapsed": false,
     "input": [
      "%who"
     ],
     "language": "python",
     "metadata": {},
     "outputs": [
      {
       "output_type": "stream",
       "stream": "stdout",
       "text": [
        "ALLOW_THREADS\tBUFSIZE\tCLIP\tComplexWarning\tDataSource\tERR_CALL\tERR_DEFAULT\tERR_DEFAULT2\tERR_IGNORE\t\n",
        "ERR_LOG\tERR_PRINT\tERR_RAISE\tERR_WARN\tFLOATING_POINT_SUPPORT\tFPE_DIVIDEBYZERO\tFPE_INVALID\tFPE_OVERFLOW\tFPE_UNDERFLOW\t\n",
        "False_\tInf\tInfinity\tM\tMAXDIMS\tMachAr\tNAN\tNINF\tNZERO\t\n",
        "NaN\tPINF\tPZERO\tPackageLoader\tQ\tRAISE\tRankWarning\tSHIFT_DIVIDEBYZERO\tSHIFT_INVALID\t\n",
        "SHIFT_OVERFLOW\tSHIFT_UNDERFLOW\tScalarType\tTrue_\tUFUNC_BUFSIZE_DEFAULT\tUFUNC_PYVALS_NAME\tWRAP\ta\tabsolute\t\n",
        "add\tadd_docstring\tadd_newdoc\tadd_newdoc_ufunc\tadd_newdocs\talen\tall\tallclose\talltrue\t\n",
        "alterdot\tamax\tamin\tangle\tany\tappend\tapply_along_axis\tapply_over_axes\tarange\t\n",
        "arccos\tarccosh\tarcsin\tarcsinh\tarctan\tarctan2\tarctanh\targmax\targmin\t\n",
        "argsort\targwhere\taround\tarray\tarray2string\tarray_equal\tarray_equiv\tarray_repr\tarray_split\t\n",
        "array_str\tasanyarray\tasarray\tasarray_chkfinite\tascontiguousarray\tasfarray\tasfortranarray\tasmatrix\tasscalar\t\n",
        "atleast_1d\tatleast_2d\tatleast_3d\taverage\tb\tbartlett\tbase_repr\tbinary_repr\tbincount\t\n",
        "bitwise_and\tbitwise_not\tbitwise_or\tbitwise_xor\tblackman\tbmat\tbool8\tbool_\tbroadcast\t\n",
        "broadcast_arrays\tbusday_count\tbusday_offset\tbusdaycalendar\tbyte\tbyte_bounds\tbytes_\tc_\tcan_cast\t\n",
        "cast\tcdouble\tceil\tcfloat\tchar\tcharacter\tchararray\tchoose\tclip\t\n",
        "clongdouble\tclongfloat\tcolumn_stack\tcommon_type\tcompare_chararrays\tcomplex128\tcomplex256\tcomplex64\tcomplex_\t\n",
        "complexfloating\tcompress\tconcatenate\tconj\tconjugate\tconvolve\tcopy\tcopysign\tcopyto\t\n",
        "corrcoef\tcorrelate\tcos\tcosh\tcount_nonzero\tcov\tcross\tcsingle\tctypeslib\t\n",
        "cumprod\tcumproduct\tcumsum\td\tdatetime64\tdatetime_as_string\tdatetime_data\tdeg2rad\tdegrees\t\n",
        "delete\tdeprecate\tdeprecate_with_doc\tdet\tdiag\tdiag_indices\tdiag_indices_from\tdiagflat\tdiagonal\t\n",
        "diff\tdigitize\tdisp\tdivide\tdot\tdouble\tdsplit\tdstack\tdtype\t\n",
        "e\tediff1d\teinsum\temath\tempty\tempty_like\tequal\terrstate\texp\t\n",
        "exp2\texpand_dims\texpm1\textract\teye\tfabs\tfastCopyAndTranspose\tfft\tfill_diagonal\t\n",
        "find_common_type\tfinfo\tfix\tflatiter\tflatnonzero\tflexible\tfliplr\tflipud\tfloat128\t\n",
        "float16\tfloat32\tfloat64\tfloat_\tfloating\tfloor\tfloor_divide\tfmax\tfmin\t\n",
        "fmod\tformat_parser\tfrexp\tfrombuffer\tfromfile\tfromfunction\tfromiter\tfrompyfunc\tfromregex\t\n",
        "fromstring\tfv\tgeneric\tgenfromtxt\tget_array_wrap\tget_include\tget_numarray_include\tget_printoptions\tgetbuffer\t\n",
        "getbufsize\tgeterr\tgeterrcall\tgeterrobj\tgradient\tgreater\tgreater_equal\thalf\thamming\t\n",
        "hanning\thistogram\thistogram2d\thistogramdd\thsplit\thstack\thypot\ti\ti0\t\n",
        "identity\tiinfo\timag\tin1d\tindex_exp\tindices\tinexact\tinf\tinfo\t\n",
        "infty\tinner\tinsert\tint0\tint16\tint32\tint64\tint8\tint_\t\n",
        "int_asbuffer\tintc\tinteger\tinterp\tintersect1d\tintp\tinvert\tipmt\tirr\t\n",
        "is_busday\tisclose\tiscomplex\tiscomplexobj\tisfinite\tisfortran\tisinf\tisnan\tisneginf\t\n",
        "isposinf\tisreal\tisrealobj\tisscalar\tissctype\tissubclass_\tissubdtype\tissubsctype\titerable\t\n",
        "ix_\tkaiser\tkron\tl\tlamb\tlambmat\tldexp\tleft_shift\tless\t\n",
        "less_equal\tlexsort\tlinalg\tlinspace\tlittle_endian\tload\tloads\tloadtxt\tlog\t\n",
        "log10\tlog1p\tlog2\tlogaddexp\tlogaddexp2\tlogical_and\tlogical_not\tlogical_or\tlogical_xor\t\n",
        "logspace\tlongcomplex\tlongdouble\tlongfloat\tlonglong\tlookfor\tma\tmafromtxt\tmask_indices\t\n",
        "mat\tmath\tmatrix\tmaximum\tmaximum_sctype\tmay_share_memory\tmean\tmedian\tmemmap\t\n",
        "meshgrid\tmgrid\tmin_scalar_type\tminimum\tmintypecode\tmirr\tmod\tmodf\tmsort\t\n",
        "multiply\tnan\tnan_to_num\tnanargmax\tnanargmin\tnanmax\tnanmin\tnansum\tnbytes\t\n",
        "ndarray\tndenumerate\tndfromtxt\tndim\tndindex\tnditer\tnegative\tnested_iters\tnewaxis\t\n",
        "newbuffer\tnextafter\tnonzero\tnot_equal\tnp\tnper\tnpv\tnumber\tnumpy\t\n",
        "obj2sctype\tobject0\tobject_\togrid\tones\tones_like\touter\tpackbits\tpad\t\n",
        "percentile\tpi\tpiecewise\tpkgload\tplace\tpmt\tpoly\tpoly1d\tpolyadd\t\n",
        "polyder\tpolydiv\tpolyfit\tpolyint\tpolymul\tpolysub\tpolyval\tpower\tppmt\t\n",
        "prod\tproduct\tpromote_types\tptp\tput\tputmask\tpv\tr\tr_\t\n",
        "rad2deg\tradians\trandom\trank\trate\travel\travel_multi_index\treal\treal_if_close\t\n",
        "rec\trecarray\trecfromcsv\trecfromtxt\treciprocal\trecord\tremainder\trepeat\trequire\t\n",
        "reshape\tresize\trestoredot\tresult_type\tright_shift\trint\troll\trollaxis\troots\t\n",
        "rot90\tround_\trow_stack\ts_\tsafe_eval\tsave\tsavetxt\tsavez\tsavez_compressed\t\n",
        "sctype2char\tsctypeDict\tsctypeNA\tsctypes\tsearchsorted\tselect\tset_numeric_ops\tset_printoptions\tset_string_function\t\n",
        "setbufsize\tsetdiff1d\tseterr\tseterrcall\tseterrobj\tsetxor1d\tshape\tshort\tshow_config\t\n",
        "sign\tsignbit\tsignedinteger\tsin\tsinc\tsingle\tsinglecomplex\tsinh\tsize\t\n",
        "sometrue\tsort\tsort_complex\tsource\tspacing\tsplit\tsqrt\tsquare\tsqueeze\t\n",
        "std\tstr_\tstring0\tstring_\tsubtract\tsum\tswapaxes\tt\ttake\t\n",
        "tan\ttanh\ttensordot\ttile\ttimedelta64\ttrace\ttranspose\ttrapz\ttri\t\n",
        "tril\ttril_indices\ttril_indices_from\ttrim_zeros\ttriu\ttriu_indices\ttriu_indices_from\ttrue_divide\ttrunc\t\n",
        "typeDict\ttypeNA\ttypecodes\ttypename\tubyte\tufunc\tuint\tuint0\tuint16\t\n",
        "uint32\tuint64\tuint8\tuintc\tuintp\tulonglong\tunicode0\tunicode_\tunion1d\t\n",
        "unique\tunpackbits\tunravel_index\tunsignedinteger\tunwrap\tushort\tv\tvander\tvar\t\n",
        "vdot\tvectorize\tvoid\tvoid0\tvsplit\tvstack\twhere\twho\tzeros\t\n",
        "zeros_like\t\n"
       ]
      }
     ],
     "prompt_number": 236
    },
    {
     "cell_type": "code",
     "collapsed": false,
     "input": [
      "del b"
     ],
     "language": "python",
     "metadata": {},
     "outputs": [],
     "prompt_number": 237
    },
    {
     "cell_type": "code",
     "collapsed": false,
     "input": [
      "%who"
     ],
     "language": "python",
     "metadata": {},
     "outputs": [
      {
       "output_type": "stream",
       "stream": "stdout",
       "text": [
        "ALLOW_THREADS\tBUFSIZE\tCLIP\tComplexWarning\tDataSource\tERR_CALL\tERR_DEFAULT\tERR_DEFAULT2\tERR_IGNORE\t\n",
        "ERR_LOG\tERR_PRINT\tERR_RAISE\tERR_WARN\tFLOATING_POINT_SUPPORT\tFPE_DIVIDEBYZERO\tFPE_INVALID\tFPE_OVERFLOW\tFPE_UNDERFLOW\t\n",
        "False_\tInf\tInfinity\tM\tMAXDIMS\tMachAr\tNAN\tNINF\tNZERO\t\n",
        "NaN\tPINF\tPZERO\tPackageLoader\tQ\tRAISE\tRankWarning\tSHIFT_DIVIDEBYZERO\tSHIFT_INVALID\t\n",
        "SHIFT_OVERFLOW\tSHIFT_UNDERFLOW\tScalarType\tTrue_\tUFUNC_BUFSIZE_DEFAULT\tUFUNC_PYVALS_NAME\tWRAP\ta\tabsolute\t\n",
        "add\tadd_docstring\tadd_newdoc\tadd_newdoc_ufunc\tadd_newdocs\talen\tall\tallclose\talltrue\t\n",
        "alterdot\tamax\tamin\tangle\tany\tappend\tapply_along_axis\tapply_over_axes\tarange\t\n",
        "arccos\tarccosh\tarcsin\tarcsinh\tarctan\tarctan2\tarctanh\targmax\targmin\t\n",
        "argsort\targwhere\taround\tarray\tarray2string\tarray_equal\tarray_equiv\tarray_repr\tarray_split\t\n",
        "array_str\tasanyarray\tasarray\tasarray_chkfinite\tascontiguousarray\tasfarray\tasfortranarray\tasmatrix\tasscalar\t\n",
        "atleast_1d\tatleast_2d\tatleast_3d\taverage\tbartlett\tbase_repr\tbinary_repr\tbincount\tbitwise_and\t\n",
        "bitwise_not\tbitwise_or\tbitwise_xor\tblackman\tbmat\tbool8\tbool_\tbroadcast\tbroadcast_arrays\t\n",
        "busday_count\tbusday_offset\tbusdaycalendar\tbyte\tbyte_bounds\tbytes_\tc_\tcan_cast\tcast\t\n",
        "cdouble\tceil\tcfloat\tchar\tcharacter\tchararray\tchoose\tclip\tclongdouble\t\n",
        "clongfloat\tcolumn_stack\tcommon_type\tcompare_chararrays\tcomplex128\tcomplex256\tcomplex64\tcomplex_\tcomplexfloating\t\n",
        "compress\tconcatenate\tconj\tconjugate\tconvolve\tcopy\tcopysign\tcopyto\tcorrcoef\t\n",
        "correlate\tcos\tcosh\tcount_nonzero\tcov\tcross\tcsingle\tctypeslib\tcumprod\t\n",
        "cumproduct\tcumsum\td\tdatetime64\tdatetime_as_string\tdatetime_data\tdeg2rad\tdegrees\tdelete\t\n",
        "deprecate\tdeprecate_with_doc\tdet\tdiag\tdiag_indices\tdiag_indices_from\tdiagflat\tdiagonal\tdiff\t\n",
        "digitize\tdisp\tdivide\tdot\tdouble\tdsplit\tdstack\tdtype\te\t\n",
        "ediff1d\teinsum\temath\tempty\tempty_like\tequal\terrstate\texp\texp2\t\n",
        "expand_dims\texpm1\textract\teye\tfabs\tfastCopyAndTranspose\tfft\tfill_diagonal\tfind_common_type\t\n",
        "finfo\tfix\tflatiter\tflatnonzero\tflexible\tfliplr\tflipud\tfloat128\tfloat16\t\n",
        "float32\tfloat64\tfloat_\tfloating\tfloor\tfloor_divide\tfmax\tfmin\tfmod\t\n",
        "format_parser\tfrexp\tfrombuffer\tfromfile\tfromfunction\tfromiter\tfrompyfunc\tfromregex\tfromstring\t\n",
        "fv\tgeneric\tgenfromtxt\tget_array_wrap\tget_include\tget_numarray_include\tget_printoptions\tgetbuffer\tgetbufsize\t\n",
        "geterr\tgeterrcall\tgeterrobj\tgradient\tgreater\tgreater_equal\thalf\thamming\thanning\t\n",
        "histogram\thistogram2d\thistogramdd\thsplit\thstack\thypot\ti\ti0\tidentity\t\n",
        "iinfo\timag\tin1d\tindex_exp\tindices\tinexact\tinf\tinfo\tinfty\t\n",
        "inner\tinsert\tint0\tint16\tint32\tint64\tint8\tint_\tint_asbuffer\t\n",
        "intc\tinteger\tinterp\tintersect1d\tintp\tinvert\tipmt\tirr\tis_busday\t\n",
        "isclose\tiscomplex\tiscomplexobj\tisfinite\tisfortran\tisinf\tisnan\tisneginf\tisposinf\t\n",
        "isreal\tisrealobj\tisscalar\tissctype\tissubclass_\tissubdtype\tissubsctype\titerable\tix_\t\n",
        "kaiser\tkron\tl\tlamb\tlambmat\tldexp\tleft_shift\tless\tless_equal\t\n",
        "lexsort\tlinalg\tlinspace\tlittle_endian\tload\tloads\tloadtxt\tlog\tlog10\t\n",
        "log1p\tlog2\tlogaddexp\tlogaddexp2\tlogical_and\tlogical_not\tlogical_or\tlogical_xor\tlogspace\t\n",
        "longcomplex\tlongdouble\tlongfloat\tlonglong\tlookfor\tma\tmafromtxt\tmask_indices\tmat\t\n",
        "math\tmatrix\tmaximum\tmaximum_sctype\tmay_share_memory\tmean\tmedian\tmemmap\tmeshgrid\t\n",
        "mgrid\tmin_scalar_type\tminimum\tmintypecode\tmirr\tmod\tmodf\tmsort\tmultiply\t\n",
        "nan\tnan_to_num\tnanargmax\tnanargmin\tnanmax\tnanmin\tnansum\tnbytes\tndarray\t\n",
        "ndenumerate\tndfromtxt\tndim\tndindex\tnditer\tnegative\tnested_iters\tnewaxis\tnewbuffer\t\n",
        "nextafter\tnonzero\tnot_equal\tnp\tnper\tnpv\tnumber\tnumpy\tobj2sctype\t\n",
        "object0\tobject_\togrid\tones\tones_like\touter\tpackbits\tpad\tpercentile\t\n",
        "pi\tpiecewise\tpkgload\tplace\tpmt\tpoly\tpoly1d\tpolyadd\tpolyder\t\n",
        "polydiv\tpolyfit\tpolyint\tpolymul\tpolysub\tpolyval\tpower\tppmt\tprod\t\n",
        "product\tpromote_types\tptp\tput\tputmask\tpv\tr\tr_\trad2deg\t\n",
        "radians\trandom\trank\trate\travel\travel_multi_index\treal\treal_if_close\trec\t\n",
        "recarray\trecfromcsv\trecfromtxt\treciprocal\trecord\tremainder\trepeat\trequire\treshape\t\n",
        "resize\trestoredot\tresult_type\tright_shift\trint\troll\trollaxis\troots\trot90\t\n",
        "round_\trow_stack\ts_\tsafe_eval\tsave\tsavetxt\tsavez\tsavez_compressed\tsctype2char\t\n",
        "sctypeDict\tsctypeNA\tsctypes\tsearchsorted\tselect\tset_numeric_ops\tset_printoptions\tset_string_function\tsetbufsize\t\n",
        "setdiff1d\tseterr\tseterrcall\tseterrobj\tsetxor1d\tshape\tshort\tshow_config\tsign\t\n",
        "signbit\tsignedinteger\tsin\tsinc\tsingle\tsinglecomplex\tsinh\tsize\tsometrue\t\n",
        "sort\tsort_complex\tsource\tspacing\tsplit\tsqrt\tsquare\tsqueeze\tstd\t\n",
        "str_\tstring0\tstring_\tsubtract\tsum\tswapaxes\tt\ttake\ttan\t\n",
        "tanh\ttensordot\ttile\ttimedelta64\ttrace\ttranspose\ttrapz\ttri\ttril\t\n",
        "tril_indices\ttril_indices_from\ttrim_zeros\ttriu\ttriu_indices\ttriu_indices_from\ttrue_divide\ttrunc\ttypeDict\t\n",
        "typeNA\ttypecodes\ttypename\tubyte\tufunc\tuint\tuint0\tuint16\tuint32\t\n",
        "uint64\tuint8\tuintc\tuintp\tulonglong\tunicode0\tunicode_\tunion1d\tunique\t\n",
        "unpackbits\tunravel_index\tunsignedinteger\tunwrap\tushort\tv\tvander\tvar\tvdot\t\n",
        "vectorize\tvoid\tvoid0\tvsplit\tvstack\twhere\twho\tzeros\tzeros_like\t\n",
        "\n"
       ]
      }
     ],
     "prompt_number": 238
    },
    {
     "cell_type": "code",
     "collapsed": false,
     "input": [
      "%whos"
     ],
     "language": "python",
     "metadata": {},
     "outputs": [
      {
       "output_type": "stream",
       "stream": "stdout",
       "text": [
        "Variable                 Type                          Data/Info\n",
        "----------------------------------------------------------------\n",
        "ALLOW_THREADS            int                           1\n",
        "BUFSIZE                  int                           8192\n",
        "CLIP                     int                           0\n",
        "ComplexWarning           type                          <class 'numpy.core.numeric.ComplexWarning'>\n",
        "DataSource               type                          <class 'numpy.lib._datasource.DataSource'>\n",
        "ERR_CALL                 int                           3\n",
        "ERR_DEFAULT              int                           0\n",
        "ERR_DEFAULT2             int                           521\n",
        "ERR_IGNORE               int                           0\n",
        "ERR_LOG                  int                           5\n",
        "ERR_PRINT                int                           4\n",
        "ERR_RAISE                int                           2\n",
        "ERR_WARN                 int                           1\n",
        "FLOATING_POINT_SUPPORT   int                           1\n",
        "FPE_DIVIDEBYZERO         int                           1\n",
        "FPE_INVALID              int                           8\n",
        "FPE_OVERFLOW             int                           2\n",
        "FPE_UNDERFLOW            int                           4\n",
        "False_                   bool_                         False\n",
        "Inf                      float                         inf\n",
        "Infinity                 float                         inf\n",
        "M                        ndarray                       2x2: 4 elems, type `int64`, 32 bytes\n",
        "MAXDIMS                  int                           32\n",
        "MachAr                   type                          <class 'numpy.core.machar.MachAr'>\n",
        "NAN                      float                         nan\n",
        "NINF                     float                         -inf\n",
        "NZERO                    float                         -0.0\n",
        "NaN                      float                         nan\n",
        "PINF                     float                         inf\n",
        "PZERO                    float                         0.0\n",
        "PackageLoader            type                          <class 'numpy._import_tools.PackageLoader'>\n",
        "Q                        ndarray                       2x2: 4 elems, type `float64`, 32 bytes\n",
        "RAISE                    int                           2\n",
        "RankWarning              type                          <class 'numpy.lib.polynomial.RankWarning'>\n",
        "SHIFT_DIVIDEBYZERO       int                           0\n",
        "SHIFT_INVALID            int                           9\n",
        "SHIFT_OVERFLOW           int                           3\n",
        "SHIFT_UNDERFLOW          int                           6\n",
        "ScalarType               tuple                         n=32\n",
        "True_                    bool_                         True\n",
        "UFUNC_BUFSIZE_DEFAULT    int                           8192\n",
        "UFUNC_PYVALS_NAME        str                           UFUNC_PYVALS\n",
        "WRAP                     int                           1\n",
        "a                        list                          n=2\n",
        "absolute                 ufunc                         <ufunc 'absolute'>\n",
        "add                      ufunc                         <ufunc 'add'>\n",
        "add_docstring            builtin_function_or_method    <built-in function add_docstring>\n",
        "add_newdoc               function                      <function add_newdoc at 0x107c86398>\n",
        "add_newdoc_ufunc         builtin_function_or_method    <built-in function add_newdoc_ufunc>\n",
        "add_newdocs              module                        <module 'numpy.add_newdoc<...>s/numpy/add_newdocs.pyc'>\n",
        "alen                     function                      <function alen at 0x107baa230>\n",
        "all                      function                      <function all at 0x107ba9ed8>\n",
        "allclose                 function                      <function allclose at 0x107baba28>\n",
        "alltrue                  function                      <function alltrue at 0x107ba9de8>\n",
        "alterdot                 function                      <function alterdot at 0x107b905f0>\n",
        "amax                     function                      <function amax at 0x107baa140>\n",
        "amin                     function                      <function amin at 0x107baa1b8>\n",
        "angle                    function                      <function angle at 0x107c85230>\n",
        "any                      function                      <function any at 0x107ba9e60>\n",
        "append                   function                      <function append at 0x107c86578>\n",
        "apply_along_axis         function                      <function apply_along_axis at 0x107c915f0>\n",
        "apply_over_axes          function                      <function apply_over_axes at 0x107c91668>\n",
        "arange                   builtin_function_or_method    <built-in function arange>\n",
        "arccos                   ufunc                         <ufunc 'arccos'>\n",
        "arccosh                  ufunc                         <ufunc 'arccosh'>\n",
        "arcsin                   ufunc                         <ufunc 'arcsin'>\n",
        "arcsinh                  ufunc                         <ufunc 'arcsinh'>\n",
        "arctan                   ufunc                         <ufunc 'arctan'>\n",
        "arctan2                  ufunc                         <ufunc 'arctan2'>\n",
        "arctanh                  ufunc                         <ufunc 'arctanh'>\n",
        "argmax                   function                      <function argmax at 0x107ba96e0>\n",
        "argmin                   function                      <function argmin at 0x107ba9758>\n",
        "argsort                  function                      <function argsort at 0x107ba9668>\n",
        "argwhere                 function                      <function argwhere at 0x107b902a8>\n",
        "around                   function                      <function around at 0x107baa500>\n",
        "array                    builtin_function_or_method    <built-in function array>\n",
        "array2string             function                      <function array2string at 0x107baab90>\n",
        "array_equal              function                      <function array_equal at 0x107babb18>\n",
        "array_equiv              function                      <function array_equiv at 0x107babb90>\n",
        "array_repr               function                      <function array_repr at 0x107baaed8>\n",
        "array_split              function                      <function array_split at 0x107c918c0>\n",
        "array_str                function                      <function array_str at 0x107bab578>\n",
        "asanyarray               function                      <function asanyarray at 0x107b90050>\n",
        "asarray                  function                      <function asarray at 0x107b88f50>\n",
        "asarray_chkfinite        function                      <function asarray_chkfinite at 0x107c83e60>\n",
        "ascontiguousarray        function                      <function ascontiguousarray at 0x107b900c8>\n",
        "asfarray                 function                      <function asfarray at 0x107c631b8>\n",
        "asfortranarray           function                      <function asfortranarray at 0x107b90140>\n",
        "asmatrix                 function                      <function asmatrix at 0x107c867d0>\n",
        "asscalar                 function                      <function asscalar at 0x107c63668>\n",
        "atleast_1d               function                      <function atleast_1d at 0x107bcdcf8>\n",
        "atleast_2d               function                      <function atleast_2d at 0x107bd5230>\n",
        "atleast_3d               function                      <function atleast_3d at 0x107bd52a8>\n",
        "average                  function                      <function average at 0x107c83de8>\n",
        "bartlett                 function                      <function bartlett at 0x107c85c80>\n",
        "base_repr                function                      <function base_repr at 0x107bab848>\n",
        "binary_repr              function                      <function binary_repr at 0x107bab7d0>\n",
        "bincount                 builtin_function_or_method    <built-in function bincount>\n",
        "bitwise_and              ufunc                         <ufunc 'bitwise_and'>\n",
        "bitwise_not              ufunc                         <ufunc 'invert'>\n",
        "bitwise_or               ufunc                         <ufunc 'bitwise_or'>\n",
        "bitwise_xor              ufunc                         <ufunc 'bitwise_xor'>\n",
        "blackman                 function                      <function blackman at 0x107c85c08>\n",
        "bmat                     function                      <function bmat at 0x107c8e848>\n",
        "bool8                    type                          <type 'numpy.bool_'>\n",
        "bool_                    type                          <type 'numpy.bool_'>\n",
        "broadcast                type                          <type 'numpy.broadcast'>\n",
        "broadcast_arrays         function                      <function broadcast_arrays at 0x107c91ed8>\n",
        "busday_count             builtin_function_or_method    <built-in function busday_count>\n",
        "busday_offset            builtin_function_or_method    <built-in function busday_offset>\n",
        "busdaycalendar           type                          <type 'numpy.busdaycalendar'>\n",
        "byte                     type                          <type 'numpy.int8'>\n",
        "byte_bounds              function                      <function byte_bounds at 0x107c76f50>\n",
        "bytes_                   type                          <type 'numpy.string_'>\n",
        "c_                       CClass                        <numpy.lib.index_tricks.C<...>ss object at 0x107c8b610>\n",
        "can_cast                 builtin_function_or_method    <built-in function can_cast>\n",
        "cast                     _typedict                     {<type 'numpy.int8'>: <fu<...><lambda> at 0x107b88758>}\n",
        "cdouble                  type                          <type 'numpy.complex128'>\n",
        "ceil                     ufunc                         <ufunc 'ceil'>\n",
        "cfloat                   type                          <type 'numpy.complex128'>\n",
        "char                     module                        <module 'numpy.core.defch<...>y/core/defchararray.pyc'>\n",
        "character                type                          <type 'numpy.character'>\n",
        "chararray                type                          <class 'numpy.core.defchararray.chararray'>\n",
        "choose                   function                      <function choose at 0x107ba9398>\n",
        "clip                     function                      <function clip at 0x107ba9c08>\n",
        "clongdouble              type                          <type 'numpy.complex256'>\n",
        "clongfloat               type                          <type 'numpy.complex256'>\n",
        "column_stack             function                      <function column_stack at 0x107c91758>\n",
        "common_type              function                      <function common_type at 0x107c63758>\n",
        "compare_chararrays       builtin_function_or_method    <built-in function compare_chararrays>\n",
        "complex128               type                          <type 'numpy.complex128'>\n",
        "complex256               type                          <type 'numpy.complex256'>\n",
        "complex64                type                          <type 'numpy.complex64'>\n",
        "complex_                 type                          <type 'numpy.complex128'>\n",
        "complexfloating          type                          <type 'numpy.complexfloating'>\n",
        "compress                 function                      <function compress at 0x107ba9b90>\n",
        "concatenate              builtin_function_or_method    <built-in function concatenate>\n",
        "conj                     ufunc                         <ufunc 'conjugate'>\n",
        "conjugate                ufunc                         <ufunc 'conjugate'>\n",
        "convolve                 function                      <function convolve at 0x107b90488>\n",
        "copy                     function                      <function copy at 0x107c85050>\n",
        "copysign                 ufunc                         <ufunc 'copysign'>\n",
        "copyto                   builtin_function_or_method    <built-in function copyto>\n",
        "corrcoef                 function                      <function corrcoef at 0x107c85b90>\n",
        "correlate                function                      <function correlate at 0x107b90410>\n",
        "cos                      ufunc                         <ufunc 'cos'>\n",
        "cosh                     ufunc                         <ufunc 'cosh'>\n",
        "count_nonzero            builtin_function_or_method    <built-in function count_nonzero>\n",
        "cov                      function                      <function cov at 0x107c85938>\n",
        "cross                    function                      <function cross at 0x107b908c0>\n",
        "csingle                  type                          <type 'numpy.complex64'>\n",
        "ctypeslib                module                        <module 'numpy.ctypeslib'<...>ges/numpy/ctypeslib.pyc'>\n",
        "cumprod                  function                      <function cumprod at 0x107baa320>\n",
        "cumproduct               function                      <function cumproduct at 0x107baa050>\n",
        "cumsum                   function                      <function cumsum at 0x107ba9f50>\n",
        "d                        dict                          n=1\n",
        "datetime64               type                          <type 'numpy.datetime64'>\n",
        "datetime_as_string       builtin_function_or_method    <built-in function datetime_as_string>\n",
        "datetime_data            builtin_function_or_method    <built-in function datetime_data>\n",
        "deg2rad                  ufunc                         <ufunc 'deg2rad'>\n",
        "degrees                  ufunc                         <ufunc 'degrees'>\n",
        "delete                   function                      <function delete at 0x107c86488>\n",
        "deprecate                function                      <function deprecate at 0x107c76d70>\n",
        "deprecate_with_doc       function                      <function <lambda> at 0x107c76ed8>\n",
        "det                      function                      <function det at 0x107cab758>\n",
        "diag                     function                      <function diag at 0x107c76230>\n",
        "diag_indices             function                      <function diag_indices at 0x107c91410>\n",
        "diag_indices_from        function                      <function diag_indices_from at 0x107c91488>\n",
        "diagflat                 function                      <function diagflat at 0x107c762a8>\n",
        "diagonal                 function                      <function diagonal at 0x107ba9938>\n",
        "diff                     function                      <function diff at 0x107c85140>\n",
        "digitize                 builtin_function_or_method    <built-in function digitize>\n",
        "disp                     function                      <function disp at 0x107c858c0>\n",
        "divide                   ufunc                         <ufunc 'divide'>\n",
        "dot                      builtin_function_or_method    <built-in function dot>\n",
        "double                   type                          <type 'numpy.float64'>\n",
        "dsplit                   function                      <function dsplit at 0x107c91aa0>\n",
        "dstack                   function                      <function dstack at 0x107c917d0>\n",
        "dtype                    type                          <type 'numpy.dtype'>\n",
        "e                        float                         2.71828182846\n",
        "ediff1d                  function                      <function ediff1d at 0x107c76b18>\n",
        "einsum                   builtin_function_or_method    <built-in function einsum>\n",
        "emath                    module                        <module 'numpy.lib.scimat<...>s/numpy/lib/scimath.pyc'>\n",
        "empty                    builtin_function_or_method    <built-in function empty>\n",
        "empty_like               builtin_function_or_method    <built-in function empty_like>\n",
        "equal                    ufunc                         <ufunc 'equal'>\n",
        "errstate                 type                          <class 'numpy.core.numeric.errstate'>\n",
        "exp                      ufunc                         <ufunc 'exp'>\n",
        "exp2                     ufunc                         <ufunc 'exp2'>\n",
        "expand_dims              function                      <function expand_dims at 0x107c916e0>\n",
        "expm1                    ufunc                         <ufunc 'expm1'>\n",
        "extract                  function                      <function extract at 0x107c85500>\n",
        "eye                      function                      <function eye at 0x107c761b8>\n",
        "fabs                     ufunc                         <ufunc 'fabs'>\n",
        "fastCopyAndTranspose     builtin_function_or_method    <built-in function _fastCopyAndTranspose>\n",
        "fft                      module                        <module 'numpy.fft' from <...>/numpy/fft/__init__.pyc'>\n",
        "fill_diagonal            function                      <function fill_diagonal at 0x107c8ed70>\n",
        "find_common_type         function                      <function find_common_type at 0x107b888c0>\n",
        "finfo                    type                          <class 'numpy.core.getlimits.finfo'>\n",
        "fix                      function                      <function fix at 0x107c63050>\n",
        "flatiter                 type                          <type 'numpy.flatiter'>\n",
        "flatnonzero              function                      <function flatnonzero at 0x107b90320>\n",
        "flexible                 type                          <type 'numpy.flexible'>\n",
        "fliplr                   function                      <function fliplr at 0x107c76050>\n",
        "flipud                   function                      <function flipud at 0x107c760c8>\n",
        "float128                 type                          <type 'numpy.float128'>\n",
        "float16                  type                          <type 'numpy.float16'>\n",
        "float32                  type                          <type 'numpy.float32'>\n",
        "float64                  type                          <type 'numpy.float64'>\n",
        "float_                   type                          <type 'numpy.float64'>\n",
        "floating                 type                          <type 'numpy.floating'>\n",
        "floor                    ufunc                         <ufunc 'floor'>\n",
        "floor_divide             ufunc                         <ufunc 'floor_divide'>\n",
        "fmax                     ufunc                         <ufunc 'fmax'>\n",
        "fmin                     ufunc                         <ufunc 'fmin'>\n",
        "fmod                     ufunc                         <ufunc 'fmod'>\n",
        "format_parser            classobj                      numpy.core.records.format_parser\n",
        "frexp                    ufunc                         <ufunc 'frexp'>\n",
        "frombuffer               builtin_function_or_method    <built-in function frombuffer>\n",
        "fromfile                 builtin_function_or_method    <built-in function fromfile>\n",
        "fromfunction             function                      <function fromfunction at 0x107bab6e0>\n",
        "fromiter                 builtin_function_or_method    <built-in function fromiter>\n",
        "frompyfunc               builtin_function_or_method    <built-in function frompyfunc>\n",
        "fromregex                function                      <function fromregex at 0x10ed02f50>\n",
        "fromstring               builtin_function_or_method    <built-in function fromstring>\n",
        "fv                       function                      <function fv at 0x10ed036e0>\n",
        "generic                  type                          <type 'numpy.generic'>\n",
        "genfromtxt               function                      <function genfromtxt at 0x10ed03050>\n",
        "get_array_wrap           function                      <function get_array_wrap at 0x107c91b90>\n",
        "get_include              function                      <function get_include at 0x107c76c08>\n",
        "get_numarray_include     function                      <function get_numarray_include at 0x107c76c80>\n",
        "get_printoptions         function                      <function get_printoptions at 0x107baa8c0>\n",
        "getbuffer                builtin_function_or_method    <built-in function getbuffer>\n",
        "getbufsize               function                      <function getbufsize at 0x107babd70>\n",
        "geterr                   function                      <function geterr at 0x107babc80>\n",
        "geterrcall               function                      <function geterrcall at 0x107babe60>\n",
        "geterrobj                builtin_function_or_method    <built-in function geterrobj>\n",
        "gradient                 function                      <function gradient at 0x107c850c8>\n",
        "greater                  ufunc                         <ufunc 'greater'>\n",
        "greater_equal            ufunc                         <ufunc 'greater_equal'>\n",
        "half                     type                          <type 'numpy.float16'>\n",
        "hamming                  function                      <function hamming at 0x107c85d70>\n",
        "hanning                  function                      <function hanning at 0x107c85cf8>\n",
        "histogram                function                      <function histogram at 0x107c83cf8>\n",
        "histogram2d              function                      <function histogram2d at 0x107c76500>\n",
        "histogramdd              function                      <function histogramdd at 0x107c83d70>\n",
        "hsplit                   function                      <function hsplit at 0x107c919b0>\n",
        "hstack                   function                      <function hstack at 0x107bd5398>\n",
        "hypot                    ufunc                         <ufunc 'hypot'>\n",
        "i                        float                         100000.0\n",
        "i0                       function                      <function i0 at 0x107c85f50>\n",
        "identity                 function                      <function identity at 0x107bab9b0>\n",
        "iinfo                    type                          <class 'numpy.core.getlimits.iinfo'>\n",
        "imag                     function                      <function imag at 0x107c632a8>\n",
        "in1d                     function                      <function in1d at 0x107c83b18>\n",
        "index_exp                IndexExpression               <numpy.lib.index_tricks.I<...>on object at 0x107c8b690>\n",
        "indices                  function                      <function indices at 0x107bab668>\n",
        "inexact                  type                          <type 'numpy.inexact'>\n",
        "inf                      float                         inf\n",
        "info                     function                      <function info at 0x107c83230>\n",
        "infty                    float                         inf\n",
        "inner                    builtin_function_or_method    <built-in function inner>\n",
        "insert                   function                      <function insert at 0x107c86500>\n",
        "int0                     type                          <type 'numpy.int64'>\n",
        "int16                    type                          <type 'numpy.int16'>\n",
        "int32                    type                          <type 'numpy.int32'>\n",
        "int64                    type                          <type 'numpy.int64'>\n",
        "int8                     type                          <type 'numpy.int8'>\n",
        "int_                     type                          <type 'numpy.int64'>\n",
        "int_asbuffer             builtin_function_or_method    <built-in function int_asbuffer>\n",
        "intc                     type                          <type 'numpy.int32'>\n",
        "integer                  type                          <type 'numpy.integer'>\n",
        "interp                   function                      <function interp at 0x107c851b8>\n",
        "intersect1d              function                      <function intersect1d at 0x107c83a28>\n",
        "intp                     type                          <type 'numpy.int64'>\n",
        "invert                   ufunc                         <ufunc 'invert'>\n",
        "ipmt                     function                      <function ipmt at 0x10ed03848>\n",
        "irr                      function                      <function irr at 0x10ed03b18>\n",
        "is_busday                builtin_function_or_method    <built-in function is_busday>\n",
        "isclose                  function                      <function isclose at 0x107babaa0>\n",
        "iscomplex                function                      <function iscomplex at 0x107c63320>\n",
        "iscomplexobj             function                      <function iscomplexobj at 0x107c63410>\n",
        "isfinite                 ufunc                         <ufunc 'isfinite'>\n",
        "isfortran                function                      <function isfortran at 0x107b90230>\n",
        "isinf                    ufunc                         <ufunc 'isinf'>\n",
        "isnan                    ufunc                         <ufunc 'isnan'>\n",
        "isneginf                 function                      <function isneginf at 0x107c63140>\n",
        "isposinf                 function                      <function isposinf at 0x107c630c8>\n",
        "isreal                   function                      <function isreal at 0x107c63398>\n",
        "isrealobj                function                      <function isrealobj at 0x107c63488>\n",
        "isscalar                 function                      <function isscalar at 0x107bab758>\n",
        "issctype                 function                      <function issctype at 0x107b84848>\n",
        "issubclass_              function                      <function issubclass_ at 0x107b84938>\n",
        "issubdtype               function                      <function issubdtype at 0x107b84a28>\n",
        "issubsctype              function                      <function issubsctype at 0x107b849b0>\n",
        "iterable                 function                      <function iterable at 0x107c83c80>\n",
        "ix_                      function                      <function ix_ at 0x107c86668>\n",
        "kaiser                   function                      <function kaiser at 0x107c86050>\n",
        "kron                     function                      <function kron at 0x107c91c08>\n",
        "l                        list                          n=2\n",
        "lamb                     ndarray                       2: 2 elems, type `float64`, 16 bytes\n",
        "lambmat                  ndarray                       2x2: 4 elems, type `float64`, 32 bytes\n",
        "ldexp                    ufunc                         <ufunc 'ldexp'>\n",
        "left_shift               ufunc                         <ufunc 'left_shift'>\n",
        "less                     ufunc                         <ufunc 'less'>\n",
        "less_equal               ufunc                         <ufunc 'less_equal'>\n",
        "lexsort                  builtin_function_or_method    <built-in function lexsort>\n",
        "linalg                   module                        <module 'numpy.linalg' fr<...>mpy/linalg/__init__.pyc'>\n",
        "linspace                 function                      <function linspace at 0x107bcd938>\n",
        "little_endian            bool                          True\n",
        "load                     function                      <function load at 0x10ed025f0>\n",
        "loads                    builtin_function_or_method    <built-in function loads>\n",
        "loadtxt                  function                      <function loadtxt at 0x10ed02e60>\n",
        "log                      ufunc                         <ufunc 'log'>\n",
        "log10                    ufunc                         <ufunc 'log10'>\n",
        "log1p                    ufunc                         <ufunc 'log1p'>\n",
        "log2                     ufunc                         <ufunc 'log2'>\n",
        "logaddexp                ufunc                         <ufunc 'logaddexp'>\n",
        "logaddexp2               ufunc                         <ufunc 'logaddexp2'>\n",
        "logical_and              ufunc                         <ufunc 'logical_and'>\n",
        "logical_not              ufunc                         <ufunc 'logical_not'>\n",
        "logical_or               ufunc                         <ufunc 'logical_or'>\n",
        "logical_xor              ufunc                         <ufunc 'logical_xor'>\n",
        "logspace                 function                      <function logspace at 0x107bcd9b0>\n",
        "longcomplex              type                          <type 'numpy.complex256'>\n",
        "longdouble               type                          <type 'numpy.float128'>\n",
        "longfloat                type                          <type 'numpy.float128'>\n",
        "longlong                 type                          <type 'numpy.int64'>\n",
        "lookfor                  function                      <function lookfor at 0x107c83320>\n",
        "ma                       module                        <module 'numpy.ma' from '<...>s/numpy/ma/__init__.pyc'>\n",
        "mafromtxt                function                      <function mafromtxt at 0x10ed03140>\n",
        "mask_indices             function                      <function mask_indices at 0x107c76578>\n",
        "mat                      function                      <function asmatrix at 0x107c867d0>\n",
        "math                     module                        <module 'math' from '/usr<...>2.7/lib-dynload/math.so'>\n",
        "matrix                   type                          <class 'numpy.matrixlib.defmatrix.matrix'>\n",
        "maximum                  ufunc                         <ufunc 'maximum'>\n",
        "maximum_sctype           function                      <function maximum_sctype at 0x107b84758>\n",
        "may_share_memory         function                      <function may_share_memory at 0x107c83050>\n",
        "mean                     function                      <function mean at 0x107baa5f0>\n",
        "median                   function                      <function median at 0x107c861b8>\n",
        "memmap                   type                          <class 'numpy.core.memmap.memmap'>\n",
        "meshgrid                 function                      <function meshgrid at 0x107c86410>\n",
        "mgrid                    nd_grid                       <numpy.lib.index_tricks.n<...>id object at 0x107c8b550>\n",
        "min_scalar_type          builtin_function_or_method    <built-in function min_scalar_type>\n",
        "minimum                  ufunc                         <ufunc 'minimum'>\n",
        "mintypecode              function                      <function mintypecode at 0x107c61f50>\n",
        "mirr                     function                      <function mirr at 0x10ed03c08>\n",
        "mod                      ufunc                         <ufunc 'remainder'>\n",
        "modf                     ufunc                         <ufunc 'modf'>\n",
        "msort                    function                      <function msort at 0x107c86140>\n",
        "multiply                 ufunc                         <ufunc 'multiply'>\n",
        "nan                      float                         nan\n",
        "nan_to_num               function                      <function nan_to_num at 0x107c63578>\n",
        "nanargmax                function                      <function nanargmax at 0x107c85848>\n",
        "nanargmin                function                      <function nanargmin at 0x107c85758>\n",
        "nanmax                   function                      <function nanmax at 0x107c857d0>\n",
        "nanmin                   function                      <function nanmin at 0x107c856e0>\n",
        "nansum                   function                      <function nansum at 0x107c85668>\n",
        "nbytes                   _typedict                     {<type 'numpy.int8'>: 1, <...>type 'numpy.object_'>: 8}\n",
        "ndarray                  type                          <type 'numpy.ndarray'>\n",
        "ndenumerate              type                          <class 'numpy.lib.index_tricks.ndenumerate'>\n",
        "ndfromtxt                function                      <function ndfromtxt at 0x10ed030c8>\n",
        "ndim                     function                      <function ndim at 0x107baa398>\n",
        "ndindex                  type                          <class 'numpy.lib.index_tricks.ndindex'>\n",
        "nditer                   type                          <type 'numpy.nditer'>\n",
        "negative                 ufunc                         <ufunc 'negative'>\n",
        "nested_iters             builtin_function_or_method    <built-in function nested_iters>\n",
        "newaxis                  NoneType                      None\n",
        "newbuffer                builtin_function_or_method    <built-in function newbuffer>\n",
        "nextafter                ufunc                         <ufunc 'nextafter'>\n",
        "nonzero                  function                      <function nonzero at 0x107ba9aa0>\n",
        "not_equal                ufunc                         <ufunc 'not_equal'>\n",
        "np                       module                        <module 'numpy' from '/us<...>ages/numpy/__init__.pyc'>\n",
        "nper                     function                      <function nper at 0x10ed037d0>\n",
        "npv                      function                      <function npv at 0x10ed03b90>\n",
        "number                   type                          <type 'numpy.number'>\n",
        "numpy                    module                        <module 'numpy' from '/us<...>ages/numpy/__init__.pyc'>\n",
        "obj2sctype               function                      <function obj2sctype at 0x107b848c0>\n",
        "object0                  type                          <type 'numpy.object_'>\n",
        "object_                  type                          <type 'numpy.object_'>\n",
        "ogrid                    nd_grid                       <numpy.lib.index_tricks.n<...>id object at 0x107c8b590>\n",
        "ones                     function                      <function ones at 0x107b88de8>\n",
        "ones_like                function                      <function ones_like at 0x107b88e60>\n",
        "outer                    function                      <function outer at 0x107b90500>\n",
        "packbits                 builtin_function_or_method    <built-in function packbits>\n",
        "pad                      function                      <function pad at 0x10ed09758>\n",
        "percentile               function                      <function percentile at 0x107c86230>\n",
        "pi                       float                         3.14159265359\n",
        "piecewise                function                      <function piecewise at 0x107c83ed8>\n",
        "pkgload                  function                      <function pkgload at 0x107911a28>\n",
        "place                    function                      <function place at 0x107c85578>\n",
        "pmt                      function                      <function pmt at 0x10ed03758>\n",
        "poly                     function                      <function poly at 0x107c996e0>\n",
        "poly1d                   type                          <class 'numpy.lib.polynomial.poly1d'>\n",
        "polyadd                  function                      <function polyadd at 0x107cabb18>\n",
        "polyder                  function                      <function polyder at 0x107cab9b0>\n",
        "polydiv                  function                      <function polydiv at 0x107cabc80>\n",
        "polyfit                  function                      <function polyfit at 0x107caba28>\n",
        "polyint                  function                      <function polyint at 0x107cab938>\n",
        "polymul                  function                      <function polymul at 0x107cabc08>\n",
        "polysub                  function                      <function polysub at 0x107cabb90>\n",
        "polyval                  function                      <function polyval at 0x107cabaa0>\n",
        "power                    ufunc                         <ufunc 'power'>\n",
        "ppmt                     function                      <function ppmt at 0x10ed03938>\n",
        "prod                     function                      <function prod at 0x107baa2a8>\n",
        "product                  function                      <function product at 0x107ba9cf8>\n",
        "promote_types            builtin_function_or_method    <built-in function promote_types>\n",
        "ptp                      function                      <function ptp at 0x107baa0c8>\n",
        "put                      function                      <function put at 0x107ba9488>\n",
        "putmask                  builtin_function_or_method    <built-in function putmask>\n",
        "pv                       function                      <function pv at 0x10ed039b0>\n",
        "r                        float                         5.0\n",
        "r_                       RClass                        <numpy.lib.index_tricks.R<...>ss object at 0x107c8b5d0>\n",
        "rad2deg                  ufunc                         <ufunc 'rad2deg'>\n",
        "radians                  ufunc                         <ufunc 'radians'>\n",
        "random                   module                        <module 'numpy.random' fr<...>mpy/random/__init__.pyc'>\n",
        "rank                     function                      <function rank at 0x107baa410>\n",
        "rate                     function                      <function rate at 0x10ed03aa0>\n",
        "ravel                    function                      <function ravel at 0x107ba9a28>\n",
        "ravel_multi_index        builtin_function_or_method    <built-in function ravel_multi_index>\n",
        "real                     function                      <function real at 0x107c63230>\n",
        "real_if_close            function                      <function real_if_close at 0x107c635f0>\n",
        "rec                      module                        <module 'numpy.core.recor<...>/numpy/core/records.pyc'>\n",
        "recarray                 type                          <class 'numpy.core.records.recarray'>\n",
        "recfromcsv               function                      <function recfromcsv at 0x10ed03230>\n",
        "recfromtxt               function                      <function recfromtxt at 0x10ed031b8>\n",
        "reciprocal               ufunc                         <ufunc 'reciprocal'>\n",
        "record                   type                          <class 'numpy.core.records.record'>\n",
        "remainder                ufunc                         <ufunc 'remainder'>\n",
        "repeat                   function                      <function repeat at 0x107ba9410>\n",
        "require                  function                      <function require at 0x107b901b8>\n",
        "reshape                  function                      <function reshape at 0x107ba9320>\n",
        "resize                   function                      <function resize at 0x107ba9848>\n",
        "restoredot               function                      <function restoredot at 0x107b90668>\n",
        "result_type              builtin_function_or_method    <built-in function result_type>\n",
        "right_shift              ufunc                         <ufunc 'right_shift'>\n",
        "rint                     ufunc                         <ufunc 'rint'>\n",
        "roll                     function                      <function roll at 0x107b90758>\n",
        "rollaxis                 function                      <function rollaxis at 0x107b907d0>\n",
        "roots                    function                      <function roots at 0x107cab8c0>\n",
        "rot90                    function                      <function rot90 at 0x107c76140>\n",
        "round_                   function                      <function round_ at 0x107baa578>\n",
        "row_stack                function                      <function vstack at 0x107bd5320>\n",
        "s_                       IndexExpression               <numpy.lib.index_tricks.I<...>on object at 0x107c8b710>\n",
        "safe_eval                function                      <function safe_eval at 0x107c83488>\n",
        "save                     function                      <function save at 0x10ed02c08>\n",
        "savetxt                  function                      <function savetxt at 0x10ed02ed8>\n",
        "savez                    function                      <function savez at 0x10ed02c80>\n",
        "savez_compressed         function                      <function savez_compressed at 0x10ed02cf8>\n",
        "sctype2char              function                      <function sctype2char at 0x107b84b90>\n",
        "sctypeDict               dict                          n=157\n",
        "sctypeNA                 dict                          n=88\n",
        "sctypes                  dict                          n=5\n",
        "searchsorted             function                      <function searchsorted at 0x107ba97d0>\n",
        "select                   function                      <function select at 0x107c83f50>\n",
        "set_numeric_ops          builtin_function_or_method    <built-in function set_numeric_ops>\n",
        "set_printoptions         function                      <function set_printoptions at 0x107baa7d0>\n",
        "set_string_function      function                      <function set_string_function at 0x107bab5f0>\n",
        "setbufsize               function                      <function setbufsize at 0x107babcf8>\n",
        "setdiff1d                function                      <function setdiff1d at 0x107c83c08>\n",
        "seterr                   function                      <function seterr at 0x107babc08>\n",
        "seterrcall               function                      <function seterrcall at 0x107babde8>\n",
        "seterrobj                builtin_function_or_method    <built-in function seterrobj>\n",
        "setxor1d                 function                      <function setxor1d at 0x107c83aa0>\n",
        "shape                    function                      <function shape at 0x107ba9b18>\n",
        "short                    type                          <type 'numpy.int16'>\n",
        "show_config              function                      <function show at 0x107911578>\n",
        "sign                     ufunc                         <ufunc 'sign'>\n",
        "signbit                  ufunc                         <ufunc 'signbit'>\n",
        "signedinteger            type                          <type 'numpy.signedinteger'>\n",
        "sin                      ufunc                         <ufunc 'sin'>\n",
        "sinc                     function                      <function sinc at 0x107c860c8>\n",
        "single                   type                          <type 'numpy.float32'>\n",
        "singlecomplex            type                          <type 'numpy.complex64'>\n",
        "sinh                     ufunc                         <ufunc 'sinh'>\n",
        "size                     function                      <function size at 0x107baa488>\n",
        "sometrue                 function                      <function sometrue at 0x107ba9d70>\n",
        "sort                     function                      <function sort at 0x107ba95f0>\n",
        "sort_complex             function                      <function sort_complex at 0x107c85320>\n",
        "source                   function                      <function source at 0x107c832a8>\n",
        "spacing                  ufunc                         <ufunc 'spacing'>\n",
        "split                    function                      <function split at 0x107c91938>\n",
        "sqrt                     ufunc                         <ufunc 'sqrt'>\n",
        "square                   ufunc                         <ufunc 'square'>\n",
        "squeeze                  function                      <function squeeze at 0x107ba98c0>\n",
        "std                      function                      <function std at 0x107baa668>\n",
        "str_                     type                          <type 'numpy.string_'>\n",
        "string0                  type                          <type 'numpy.string_'>\n",
        "string_                  type                          <type 'numpy.string_'>\n",
        "subtract                 ufunc                         <ufunc 'subtract'>\n",
        "sum                      function                      <function sum at 0x107ba9c80>\n",
        "swapaxes                 function                      <function swapaxes at 0x107ba9500>\n",
        "t                        tuple                         n=2\n",
        "take                     function                      <function take at 0x107ba92a8>\n",
        "tan                      ufunc                         <ufunc 'tan'>\n",
        "tanh                     ufunc                         <ufunc 'tanh'>\n",
        "tensordot                function                      <function tensordot at 0x107b906e0>\n",
        "tile                     function                      <function tile at 0x107c91c80>\n",
        "timedelta64              type                          <type 'numpy.timedelta64'>\n",
        "trace                    function                      <function trace at 0x107ba99b0>\n",
        "transpose                function                      <function transpose at 0x107ba9578>\n",
        "trapz                    function                      <function trapz at 0x107c86320>\n",
        "tri                      function                      <function tri at 0x107c76320>\n",
        "tril                     function                      <function tril at 0x107c76398>\n",
        "tril_indices             function                      <function tril_indices at 0x107c765f0>\n",
        "tril_indices_from        function                      <function tril_indices_from at 0x107c76668>\n",
        "trim_zeros               function                      <function trim_zeros at 0x107c85398>\n",
        "triu                     function                      <function triu at 0x107c76410>\n",
        "triu_indices             function                      <function triu_indices at 0x107c766e0>\n",
        "triu_indices_from        function                      <function triu_indices_from at 0x107c76758>\n",
        "true_divide              ufunc                         <ufunc 'true_divide'>\n",
        "trunc                    ufunc                         <ufunc 'trunc'>\n",
        "typeDict                 dict                          n=157\n",
        "typeNA                   dict                          n=88\n",
        "typecodes                dict                          n=9\n",
        "typename                 function                      <function typename at 0x107c636e0>\n",
        "ubyte                    type                          <type 'numpy.uint8'>\n",
        "ufunc                    type                          <type 'numpy.ufunc'>\n",
        "uint                     type                          <type 'numpy.uint64'>\n",
        "uint0                    type                          <type 'numpy.uint64'>\n",
        "uint16                   type                          <type 'numpy.uint16'>\n",
        "uint32                   type                          <type 'numpy.uint32'>\n",
        "uint64                   type                          <type 'numpy.uint64'>\n",
        "uint8                    type                          <type 'numpy.uint8'>\n",
        "uintc                    type                          <type 'numpy.uint32'>\n",
        "uintp                    type                          <type 'numpy.uint64'>\n",
        "ulonglong                type                          <type 'numpy.uint64'>\n",
        "unicode0                 type                          <type 'numpy.unicode_'>\n",
        "unicode_                 type                          <type 'numpy.unicode_'>\n",
        "union1d                  function                      <function union1d at 0x107c83b90>\n",
        "unique                   function                      <function unique at 0x107c839b0>\n",
        "unpackbits               builtin_function_or_method    <built-in function unpackbits>\n",
        "unravel_index            builtin_function_or_method    <built-in function unravel_index>\n",
        "unsignedinteger          type                          <type 'numpy.unsignedinteger'>\n",
        "unwrap                   function                      <function unwrap at 0x107c852a8>\n",
        "ushort                   type                          <type 'numpy.uint16'>\n",
        "v                        ndarray                       2: 2 elems, type `float64`, 16 bytes\n",
        "vander                   function                      <function vander at 0x107c76488>\n",
        "var                      function                      <function var at 0x107baa6e0>\n",
        "vdot                     function                      <function vdot at 0x107b90578>\n",
        "vectorize                type                          <class 'numpy.lib.function_base.vectorize'>\n",
        "void                     type                          <type 'numpy.void'>\n",
        "void0                    type                          <type 'numpy.void'>\n",
        "vsplit                   function                      <function vsplit at 0x107c91a28>\n",
        "vstack                   function                      <function vstack at 0x107bd5320>\n",
        "where                    builtin_function_or_method    <built-in function where>\n",
        "who                      function                      <function who at 0x107c830c8>\n",
        "zeros                    builtin_function_or_method    <built-in function zeros>\n",
        "zeros_like               function                      <function zeros_like at 0x107b88d70>\n"
       ]
      }
     ],
     "prompt_number": 239
    },
    {
     "cell_type": "markdown",
     "metadata": {},
     "source": [
      "Mejor opci\u00f3n para evitar escribir `numpy.` cada vez:"
     ]
    },
    {
     "cell_type": "code",
     "collapsed": false,
     "input": [
      "import numpy as np"
     ],
     "language": "python",
     "metadata": {},
     "outputs": [],
     "prompt_number": 240
    },
    {
     "cell_type": "code",
     "collapsed": false,
     "input": [
      "np.dot(v, v)"
     ],
     "language": "python",
     "metadata": {},
     "outputs": [
      {
       "metadata": {},
       "output_type": "pyout",
       "prompt_number": 241,
       "text": [
        "5.0"
       ]
      }
     ],
     "prompt_number": 241
    },
    {
     "cell_type": "code",
     "collapsed": false,
     "input": [
      "%who"
     ],
     "language": "python",
     "metadata": {},
     "outputs": [
      {
       "output_type": "stream",
       "stream": "stdout",
       "text": [
        "ALLOW_THREADS\tBUFSIZE\tCLIP\tComplexWarning\tDataSource\tERR_CALL\tERR_DEFAULT\tERR_DEFAULT2\tERR_IGNORE\t\n",
        "ERR_LOG\tERR_PRINT\tERR_RAISE\tERR_WARN\tFLOATING_POINT_SUPPORT\tFPE_DIVIDEBYZERO\tFPE_INVALID\tFPE_OVERFLOW\tFPE_UNDERFLOW\t\n",
        "False_\tInf\tInfinity\tM\tMAXDIMS\tMachAr\tNAN\tNINF\tNZERO\t\n",
        "NaN\tPINF\tPZERO\tPackageLoader\tQ\tRAISE\tRankWarning\tSHIFT_DIVIDEBYZERO\tSHIFT_INVALID\t\n",
        "SHIFT_OVERFLOW\tSHIFT_UNDERFLOW\tScalarType\tTrue_\tUFUNC_BUFSIZE_DEFAULT\tUFUNC_PYVALS_NAME\tWRAP\ta\tabsolute\t\n",
        "add\tadd_docstring\tadd_newdoc\tadd_newdoc_ufunc\tadd_newdocs\talen\tall\tallclose\talltrue\t\n",
        "alterdot\tamax\tamin\tangle\tany\tappend\tapply_along_axis\tapply_over_axes\tarange\t\n",
        "arccos\tarccosh\tarcsin\tarcsinh\tarctan\tarctan2\tarctanh\targmax\targmin\t\n",
        "argsort\targwhere\taround\tarray\tarray2string\tarray_equal\tarray_equiv\tarray_repr\tarray_split\t\n",
        "array_str\tasanyarray\tasarray\tasarray_chkfinite\tascontiguousarray\tasfarray\tasfortranarray\tasmatrix\tasscalar\t\n",
        "atleast_1d\tatleast_2d\tatleast_3d\taverage\tbartlett\tbase_repr\tbinary_repr\tbincount\tbitwise_and\t\n",
        "bitwise_not\tbitwise_or\tbitwise_xor\tblackman\tbmat\tbool8\tbool_\tbroadcast\tbroadcast_arrays\t\n",
        "busday_count\tbusday_offset\tbusdaycalendar\tbyte\tbyte_bounds\tbytes_\tc_\tcan_cast\tcast\t\n",
        "cdouble\tceil\tcfloat\tchar\tcharacter\tchararray\tchoose\tclip\tclongdouble\t\n",
        "clongfloat\tcolumn_stack\tcommon_type\tcompare_chararrays\tcomplex128\tcomplex256\tcomplex64\tcomplex_\tcomplexfloating\t\n",
        "compress\tconcatenate\tconj\tconjugate\tconvolve\tcopy\tcopysign\tcopyto\tcorrcoef\t\n",
        "correlate\tcos\tcosh\tcount_nonzero\tcov\tcross\tcsingle\tctypeslib\tcumprod\t\n",
        "cumproduct\tcumsum\td\tdatetime64\tdatetime_as_string\tdatetime_data\tdeg2rad\tdegrees\tdelete\t\n",
        "deprecate\tdeprecate_with_doc\tdet\tdiag\tdiag_indices\tdiag_indices_from\tdiagflat\tdiagonal\tdiff\t\n",
        "digitize\tdisp\tdivide\tdot\tdouble\tdsplit\tdstack\tdtype\te\t\n",
        "ediff1d\teinsum\temath\tempty\tempty_like\tequal\terrstate\texp\texp2\t\n",
        "expand_dims\texpm1\textract\teye\tfabs\tfastCopyAndTranspose\tfft\tfill_diagonal\tfind_common_type\t\n",
        "finfo\tfix\tflatiter\tflatnonzero\tflexible\tfliplr\tflipud\tfloat128\tfloat16\t\n",
        "float32\tfloat64\tfloat_\tfloating\tfloor\tfloor_divide\tfmax\tfmin\tfmod\t\n",
        "format_parser\tfrexp\tfrombuffer\tfromfile\tfromfunction\tfromiter\tfrompyfunc\tfromregex\tfromstring\t\n",
        "fv\tgeneric\tgenfromtxt\tget_array_wrap\tget_include\tget_numarray_include\tget_printoptions\tgetbuffer\tgetbufsize\t\n",
        "geterr\tgeterrcall\tgeterrobj\tgradient\tgreater\tgreater_equal\thalf\thamming\thanning\t\n",
        "histogram\thistogram2d\thistogramdd\thsplit\thstack\thypot\ti\ti0\tidentity\t\n",
        "iinfo\timag\tin1d\tindex_exp\tindices\tinexact\tinf\tinfo\tinfty\t\n",
        "inner\tinsert\tint0\tint16\tint32\tint64\tint8\tint_\tint_asbuffer\t\n",
        "intc\tinteger\tinterp\tintersect1d\tintp\tinvert\tipmt\tirr\tis_busday\t\n",
        "isclose\tiscomplex\tiscomplexobj\tisfinite\tisfortran\tisinf\tisnan\tisneginf\tisposinf\t\n",
        "isreal\tisrealobj\tisscalar\tissctype\tissubclass_\tissubdtype\tissubsctype\titerable\tix_\t\n",
        "kaiser\tkron\tl\tlamb\tlambmat\tldexp\tleft_shift\tless\tless_equal\t\n",
        "lexsort\tlinalg\tlinspace\tlittle_endian\tload\tloads\tloadtxt\tlog\tlog10\t\n",
        "log1p\tlog2\tlogaddexp\tlogaddexp2\tlogical_and\tlogical_not\tlogical_or\tlogical_xor\tlogspace\t\n",
        "longcomplex\tlongdouble\tlongfloat\tlonglong\tlookfor\tma\tmafromtxt\tmask_indices\tmat\t\n",
        "math\tmatrix\tmaximum\tmaximum_sctype\tmay_share_memory\tmean\tmedian\tmemmap\tmeshgrid\t\n",
        "mgrid\tmin_scalar_type\tminimum\tmintypecode\tmirr\tmod\tmodf\tmsort\tmultiply\t\n",
        "nan\tnan_to_num\tnanargmax\tnanargmin\tnanmax\tnanmin\tnansum\tnbytes\tndarray\t\n",
        "ndenumerate\tndfromtxt\tndim\tndindex\tnditer\tnegative\tnested_iters\tnewaxis\tnewbuffer\t\n",
        "nextafter\tnonzero\tnot_equal\tnp\tnper\tnpv\tnumber\tnumpy\tobj2sctype\t\n",
        "object0\tobject_\togrid\tones\tones_like\touter\tpackbits\tpad\tpercentile\t\n",
        "pi\tpiecewise\tpkgload\tplace\tpmt\tpoly\tpoly1d\tpolyadd\tpolyder\t\n",
        "polydiv\tpolyfit\tpolyint\tpolymul\tpolysub\tpolyval\tpower\tppmt\tprod\t\n",
        "product\tpromote_types\tptp\tput\tputmask\tpv\tr\tr_\trad2deg\t\n",
        "radians\trandom\trank\trate\travel\travel_multi_index\treal\treal_if_close\trec\t\n",
        "recarray\trecfromcsv\trecfromtxt\treciprocal\trecord\tremainder\trepeat\trequire\treshape\t\n",
        "resize\trestoredot\tresult_type\tright_shift\trint\troll\trollaxis\troots\trot90\t\n",
        "round_\trow_stack\ts_\tsafe_eval\tsave\tsavetxt\tsavez\tsavez_compressed\tsctype2char\t\n",
        "sctypeDict\tsctypeNA\tsctypes\tsearchsorted\tselect\tset_numeric_ops\tset_printoptions\tset_string_function\tsetbufsize\t\n",
        "setdiff1d\tseterr\tseterrcall\tseterrobj\tsetxor1d\tshape\tshort\tshow_config\tsign\t\n",
        "signbit\tsignedinteger\tsin\tsinc\tsingle\tsinglecomplex\tsinh\tsize\tsometrue\t\n",
        "sort\tsort_complex\tsource\tspacing\tsplit\tsqrt\tsquare\tsqueeze\tstd\t\n",
        "str_\tstring0\tstring_\tsubtract\tsum\tswapaxes\tt\ttake\ttan\t\n",
        "tanh\ttensordot\ttile\ttimedelta64\ttrace\ttranspose\ttrapz\ttri\ttril\t\n",
        "tril_indices\ttril_indices_from\ttrim_zeros\ttriu\ttriu_indices\ttriu_indices_from\ttrue_divide\ttrunc\ttypeDict\t\n",
        "typeNA\ttypecodes\ttypename\tubyte\tufunc\tuint\tuint0\tuint16\tuint32\t\n",
        "uint64\tuint8\tuintc\tuintp\tulonglong\tunicode0\tunicode_\tunion1d\tunique\t\n",
        "unpackbits\tunravel_index\tunsignedinteger\tunwrap\tushort\tv\tvander\tvar\tvdot\t\n",
        "vectorize\tvoid\tvoid0\tvsplit\tvstack\twhere\twho\tzeros\tzeros_like\t\n",
        "\n"
       ]
      }
     ],
     "prompt_number": 242
    },
    {
     "cell_type": "code",
     "collapsed": false,
     "input": [
      "del numpy"
     ],
     "language": "python",
     "metadata": {},
     "outputs": [],
     "prompt_number": 243
    },
    {
     "cell_type": "code",
     "collapsed": false,
     "input": [
      "%who"
     ],
     "language": "python",
     "metadata": {},
     "outputs": [
      {
       "output_type": "stream",
       "stream": "stdout",
       "text": [
        "ALLOW_THREADS\tBUFSIZE\tCLIP\tComplexWarning\tDataSource\tERR_CALL\tERR_DEFAULT\tERR_DEFAULT2\tERR_IGNORE\t\n",
        "ERR_LOG\tERR_PRINT\tERR_RAISE\tERR_WARN\tFLOATING_POINT_SUPPORT\tFPE_DIVIDEBYZERO\tFPE_INVALID\tFPE_OVERFLOW\tFPE_UNDERFLOW\t\n",
        "False_\tInf\tInfinity\tM\tMAXDIMS\tMachAr\tNAN\tNINF\tNZERO\t\n",
        "NaN\tPINF\tPZERO\tPackageLoader\tQ\tRAISE\tRankWarning\tSHIFT_DIVIDEBYZERO\tSHIFT_INVALID\t\n",
        "SHIFT_OVERFLOW\tSHIFT_UNDERFLOW\tScalarType\tTrue_\tUFUNC_BUFSIZE_DEFAULT\tUFUNC_PYVALS_NAME\tWRAP\ta\tabsolute\t\n",
        "add\tadd_docstring\tadd_newdoc\tadd_newdoc_ufunc\tadd_newdocs\talen\tall\tallclose\talltrue\t\n",
        "alterdot\tamax\tamin\tangle\tany\tappend\tapply_along_axis\tapply_over_axes\tarange\t\n",
        "arccos\tarccosh\tarcsin\tarcsinh\tarctan\tarctan2\tarctanh\targmax\targmin\t\n",
        "argsort\targwhere\taround\tarray\tarray2string\tarray_equal\tarray_equiv\tarray_repr\tarray_split\t\n",
        "array_str\tasanyarray\tasarray\tasarray_chkfinite\tascontiguousarray\tasfarray\tasfortranarray\tasmatrix\tasscalar\t\n",
        "atleast_1d\tatleast_2d\tatleast_3d\taverage\tbartlett\tbase_repr\tbinary_repr\tbincount\tbitwise_and\t\n",
        "bitwise_not\tbitwise_or\tbitwise_xor\tblackman\tbmat\tbool8\tbool_\tbroadcast\tbroadcast_arrays\t\n",
        "busday_count\tbusday_offset\tbusdaycalendar\tbyte\tbyte_bounds\tbytes_\tc_\tcan_cast\tcast\t\n",
        "cdouble\tceil\tcfloat\tchar\tcharacter\tchararray\tchoose\tclip\tclongdouble\t\n",
        "clongfloat\tcolumn_stack\tcommon_type\tcompare_chararrays\tcomplex128\tcomplex256\tcomplex64\tcomplex_\tcomplexfloating\t\n",
        "compress\tconcatenate\tconj\tconjugate\tconvolve\tcopy\tcopysign\tcopyto\tcorrcoef\t\n",
        "correlate\tcos\tcosh\tcount_nonzero\tcov\tcross\tcsingle\tctypeslib\tcumprod\t\n",
        "cumproduct\tcumsum\td\tdatetime64\tdatetime_as_string\tdatetime_data\tdeg2rad\tdegrees\tdelete\t\n",
        "deprecate\tdeprecate_with_doc\tdet\tdiag\tdiag_indices\tdiag_indices_from\tdiagflat\tdiagonal\tdiff\t\n",
        "digitize\tdisp\tdivide\tdot\tdouble\tdsplit\tdstack\tdtype\te\t\n",
        "ediff1d\teinsum\temath\tempty\tempty_like\tequal\terrstate\texp\texp2\t\n",
        "expand_dims\texpm1\textract\teye\tfabs\tfastCopyAndTranspose\tfft\tfill_diagonal\tfind_common_type\t\n",
        "finfo\tfix\tflatiter\tflatnonzero\tflexible\tfliplr\tflipud\tfloat128\tfloat16\t\n",
        "float32\tfloat64\tfloat_\tfloating\tfloor\tfloor_divide\tfmax\tfmin\tfmod\t\n",
        "format_parser\tfrexp\tfrombuffer\tfromfile\tfromfunction\tfromiter\tfrompyfunc\tfromregex\tfromstring\t\n",
        "fv\tgeneric\tgenfromtxt\tget_array_wrap\tget_include\tget_numarray_include\tget_printoptions\tgetbuffer\tgetbufsize\t\n",
        "geterr\tgeterrcall\tgeterrobj\tgradient\tgreater\tgreater_equal\thalf\thamming\thanning\t\n",
        "histogram\thistogram2d\thistogramdd\thsplit\thstack\thypot\ti\ti0\tidentity\t\n",
        "iinfo\timag\tin1d\tindex_exp\tindices\tinexact\tinf\tinfo\tinfty\t\n",
        "inner\tinsert\tint0\tint16\tint32\tint64\tint8\tint_\tint_asbuffer\t\n",
        "intc\tinteger\tinterp\tintersect1d\tintp\tinvert\tipmt\tirr\tis_busday\t\n",
        "isclose\tiscomplex\tiscomplexobj\tisfinite\tisfortran\tisinf\tisnan\tisneginf\tisposinf\t\n",
        "isreal\tisrealobj\tisscalar\tissctype\tissubclass_\tissubdtype\tissubsctype\titerable\tix_\t\n",
        "kaiser\tkron\tl\tlamb\tlambmat\tldexp\tleft_shift\tless\tless_equal\t\n",
        "lexsort\tlinalg\tlinspace\tlittle_endian\tload\tloads\tloadtxt\tlog\tlog10\t\n",
        "log1p\tlog2\tlogaddexp\tlogaddexp2\tlogical_and\tlogical_not\tlogical_or\tlogical_xor\tlogspace\t\n",
        "longcomplex\tlongdouble\tlongfloat\tlonglong\tlookfor\tma\tmafromtxt\tmask_indices\tmat\t\n",
        "math\tmatrix\tmaximum\tmaximum_sctype\tmay_share_memory\tmean\tmedian\tmemmap\tmeshgrid\t\n",
        "mgrid\tmin_scalar_type\tminimum\tmintypecode\tmirr\tmod\tmodf\tmsort\tmultiply\t\n",
        "nan\tnan_to_num\tnanargmax\tnanargmin\tnanmax\tnanmin\tnansum\tnbytes\tndarray\t\n",
        "ndenumerate\tndfromtxt\tndim\tndindex\tnditer\tnegative\tnested_iters\tnewaxis\tnewbuffer\t\n",
        "nextafter\tnonzero\tnot_equal\tnp\tnper\tnpv\tnumber\tobj2sctype\tobject0\t\n",
        "object_\togrid\tones\tones_like\touter\tpackbits\tpad\tpercentile\tpi\t\n",
        "piecewise\tpkgload\tplace\tpmt\tpoly\tpoly1d\tpolyadd\tpolyder\tpolydiv\t\n",
        "polyfit\tpolyint\tpolymul\tpolysub\tpolyval\tpower\tppmt\tprod\tproduct\t\n",
        "promote_types\tptp\tput\tputmask\tpv\tr\tr_\trad2deg\tradians\t\n",
        "random\trank\trate\travel\travel_multi_index\treal\treal_if_close\trec\trecarray\t\n",
        "recfromcsv\trecfromtxt\treciprocal\trecord\tremainder\trepeat\trequire\treshape\tresize\t\n",
        "restoredot\tresult_type\tright_shift\trint\troll\trollaxis\troots\trot90\tround_\t\n",
        "row_stack\ts_\tsafe_eval\tsave\tsavetxt\tsavez\tsavez_compressed\tsctype2char\tsctypeDict\t\n",
        "sctypeNA\tsctypes\tsearchsorted\tselect\tset_numeric_ops\tset_printoptions\tset_string_function\tsetbufsize\tsetdiff1d\t\n",
        "seterr\tseterrcall\tseterrobj\tsetxor1d\tshape\tshort\tshow_config\tsign\tsignbit\t\n",
        "signedinteger\tsin\tsinc\tsingle\tsinglecomplex\tsinh\tsize\tsometrue\tsort\t\n",
        "sort_complex\tsource\tspacing\tsplit\tsqrt\tsquare\tsqueeze\tstd\tstr_\t\n",
        "string0\tstring_\tsubtract\tsum\tswapaxes\tt\ttake\ttan\ttanh\t\n",
        "tensordot\ttile\ttimedelta64\ttrace\ttranspose\ttrapz\ttri\ttril\ttril_indices\t\n",
        "tril_indices_from\ttrim_zeros\ttriu\ttriu_indices\ttriu_indices_from\ttrue_divide\ttrunc\ttypeDict\ttypeNA\t\n",
        "typecodes\ttypename\tubyte\tufunc\tuint\tuint0\tuint16\tuint32\tuint64\t\n",
        "uint8\tuintc\tuintp\tulonglong\tunicode0\tunicode_\tunion1d\tunique\tunpackbits\t\n",
        "unravel_index\tunsignedinteger\tunwrap\tushort\tv\tvander\tvar\tvdot\tvectorize\t\n",
        "void\tvoid0\tvsplit\tvstack\twhere\twho\tzeros\tzeros_like\t\n"
       ]
      }
     ],
     "prompt_number": 244
    },
    {
     "cell_type": "code",
     "collapsed": false,
     "input": [
      "numpy.dot"
     ],
     "language": "python",
     "metadata": {},
     "outputs": [
      {
       "ename": "NameError",
       "evalue": "name 'numpy' is not defined",
       "output_type": "pyerr",
       "traceback": [
        "\u001b[0;31m---------------------------------------------------------------------------\u001b[0m\n\u001b[0;31mNameError\u001b[0m                                 Traceback (most recent call last)",
        "\u001b[0;32m<ipython-input-245-ed111a3af2d5>\u001b[0m in \u001b[0;36m<module>\u001b[0;34m()\u001b[0m\n\u001b[0;32m----> 1\u001b[0;31m \u001b[0mnumpy\u001b[0m\u001b[0;34m.\u001b[0m\u001b[0mdot\u001b[0m\u001b[0;34m\u001b[0m\u001b[0m\n\u001b[0m",
        "\u001b[0;31mNameError\u001b[0m: name 'numpy' is not defined"
       ]
      }
     ],
     "prompt_number": 245
    },
    {
     "cell_type": "code",
     "collapsed": false,
     "input": [
      "np.dot"
     ],
     "language": "python",
     "metadata": {},
     "outputs": [
      {
       "metadata": {},
       "output_type": "pyout",
       "prompt_number": 246,
       "text": [
        "<function numpy.core.multiarray.dot>"
       ]
      }
     ],
     "prompt_number": 246
    },
    {
     "cell_type": "code",
     "collapsed": false,
     "input": [
      "from numpy import dot, array"
     ],
     "language": "python",
     "metadata": {},
     "outputs": [],
     "prompt_number": 247
    },
    {
     "cell_type": "code",
     "collapsed": false,
     "input": [
      "%who"
     ],
     "language": "python",
     "metadata": {},
     "outputs": [
      {
       "output_type": "stream",
       "stream": "stdout",
       "text": [
        "ALLOW_THREADS\tBUFSIZE\tCLIP\tComplexWarning\tDataSource\tERR_CALL\tERR_DEFAULT\tERR_DEFAULT2\tERR_IGNORE\t\n",
        "ERR_LOG\tERR_PRINT\tERR_RAISE\tERR_WARN\tFLOATING_POINT_SUPPORT\tFPE_DIVIDEBYZERO\tFPE_INVALID\tFPE_OVERFLOW\tFPE_UNDERFLOW\t\n",
        "False_\tInf\tInfinity\tM\tMAXDIMS\tMachAr\tNAN\tNINF\tNZERO\t\n",
        "NaN\tPINF\tPZERO\tPackageLoader\tQ\tRAISE\tRankWarning\tSHIFT_DIVIDEBYZERO\tSHIFT_INVALID\t\n",
        "SHIFT_OVERFLOW\tSHIFT_UNDERFLOW\tScalarType\tTrue_\tUFUNC_BUFSIZE_DEFAULT\tUFUNC_PYVALS_NAME\tWRAP\ta\tabsolute\t\n",
        "add\tadd_docstring\tadd_newdoc\tadd_newdoc_ufunc\tadd_newdocs\talen\tall\tallclose\talltrue\t\n",
        "alterdot\tamax\tamin\tangle\tany\tappend\tapply_along_axis\tapply_over_axes\tarange\t\n",
        "arccos\tarccosh\tarcsin\tarcsinh\tarctan\tarctan2\tarctanh\targmax\targmin\t\n",
        "argsort\targwhere\taround\tarray\tarray2string\tarray_equal\tarray_equiv\tarray_repr\tarray_split\t\n",
        "array_str\tasanyarray\tasarray\tasarray_chkfinite\tascontiguousarray\tasfarray\tasfortranarray\tasmatrix\tasscalar\t\n",
        "atleast_1d\tatleast_2d\tatleast_3d\taverage\tbartlett\tbase_repr\tbinary_repr\tbincount\tbitwise_and\t\n",
        "bitwise_not\tbitwise_or\tbitwise_xor\tblackman\tbmat\tbool8\tbool_\tbroadcast\tbroadcast_arrays\t\n",
        "busday_count\tbusday_offset\tbusdaycalendar\tbyte\tbyte_bounds\tbytes_\tc_\tcan_cast\tcast\t\n",
        "cdouble\tceil\tcfloat\tchar\tcharacter\tchararray\tchoose\tclip\tclongdouble\t\n",
        "clongfloat\tcolumn_stack\tcommon_type\tcompare_chararrays\tcomplex128\tcomplex256\tcomplex64\tcomplex_\tcomplexfloating\t\n",
        "compress\tconcatenate\tconj\tconjugate\tconvolve\tcopy\tcopysign\tcopyto\tcorrcoef\t\n",
        "correlate\tcos\tcosh\tcount_nonzero\tcov\tcross\tcsingle\tctypeslib\tcumprod\t\n",
        "cumproduct\tcumsum\td\tdatetime64\tdatetime_as_string\tdatetime_data\tdeg2rad\tdegrees\tdelete\t\n",
        "deprecate\tdeprecate_with_doc\tdet\tdiag\tdiag_indices\tdiag_indices_from\tdiagflat\tdiagonal\tdiff\t\n",
        "digitize\tdisp\tdivide\tdot\tdouble\tdsplit\tdstack\tdtype\te\t\n",
        "ediff1d\teinsum\temath\tempty\tempty_like\tequal\terrstate\texp\texp2\t\n",
        "expand_dims\texpm1\textract\teye\tfabs\tfastCopyAndTranspose\tfft\tfill_diagonal\tfind_common_type\t\n",
        "finfo\tfix\tflatiter\tflatnonzero\tflexible\tfliplr\tflipud\tfloat128\tfloat16\t\n",
        "float32\tfloat64\tfloat_\tfloating\tfloor\tfloor_divide\tfmax\tfmin\tfmod\t\n",
        "format_parser\tfrexp\tfrombuffer\tfromfile\tfromfunction\tfromiter\tfrompyfunc\tfromregex\tfromstring\t\n",
        "fv\tgeneric\tgenfromtxt\tget_array_wrap\tget_include\tget_numarray_include\tget_printoptions\tgetbuffer\tgetbufsize\t\n",
        "geterr\tgeterrcall\tgeterrobj\tgradient\tgreater\tgreater_equal\thalf\thamming\thanning\t\n",
        "histogram\thistogram2d\thistogramdd\thsplit\thstack\thypot\ti\ti0\tidentity\t\n",
        "iinfo\timag\tin1d\tindex_exp\tindices\tinexact\tinf\tinfo\tinfty\t\n",
        "inner\tinsert\tint0\tint16\tint32\tint64\tint8\tint_\tint_asbuffer\t\n",
        "intc\tinteger\tinterp\tintersect1d\tintp\tinvert\tipmt\tirr\tis_busday\t\n",
        "isclose\tiscomplex\tiscomplexobj\tisfinite\tisfortran\tisinf\tisnan\tisneginf\tisposinf\t\n",
        "isreal\tisrealobj\tisscalar\tissctype\tissubclass_\tissubdtype\tissubsctype\titerable\tix_\t\n",
        "kaiser\tkron\tl\tlamb\tlambmat\tldexp\tleft_shift\tless\tless_equal\t\n",
        "lexsort\tlinalg\tlinspace\tlittle_endian\tload\tloads\tloadtxt\tlog\tlog10\t\n",
        "log1p\tlog2\tlogaddexp\tlogaddexp2\tlogical_and\tlogical_not\tlogical_or\tlogical_xor\tlogspace\t\n",
        "longcomplex\tlongdouble\tlongfloat\tlonglong\tlookfor\tma\tmafromtxt\tmask_indices\tmat\t\n",
        "math\tmatrix\tmaximum\tmaximum_sctype\tmay_share_memory\tmean\tmedian\tmemmap\tmeshgrid\t\n",
        "mgrid\tmin_scalar_type\tminimum\tmintypecode\tmirr\tmod\tmodf\tmsort\tmultiply\t\n",
        "nan\tnan_to_num\tnanargmax\tnanargmin\tnanmax\tnanmin\tnansum\tnbytes\tndarray\t\n",
        "ndenumerate\tndfromtxt\tndim\tndindex\tnditer\tnegative\tnested_iters\tnewaxis\tnewbuffer\t\n",
        "nextafter\tnonzero\tnot_equal\tnp\tnper\tnpv\tnumber\tobj2sctype\tobject0\t\n",
        "object_\togrid\tones\tones_like\touter\tpackbits\tpad\tpercentile\tpi\t\n",
        "piecewise\tpkgload\tplace\tpmt\tpoly\tpoly1d\tpolyadd\tpolyder\tpolydiv\t\n",
        "polyfit\tpolyint\tpolymul\tpolysub\tpolyval\tpower\tppmt\tprod\tproduct\t\n",
        "promote_types\tptp\tput\tputmask\tpv\tr\tr_\trad2deg\tradians\t\n",
        "random\trank\trate\travel\travel_multi_index\treal\treal_if_close\trec\trecarray\t\n",
        "recfromcsv\trecfromtxt\treciprocal\trecord\tremainder\trepeat\trequire\treshape\tresize\t\n",
        "restoredot\tresult_type\tright_shift\trint\troll\trollaxis\troots\trot90\tround_\t\n",
        "row_stack\ts_\tsafe_eval\tsave\tsavetxt\tsavez\tsavez_compressed\tsctype2char\tsctypeDict\t\n",
        "sctypeNA\tsctypes\tsearchsorted\tselect\tset_numeric_ops\tset_printoptions\tset_string_function\tsetbufsize\tsetdiff1d\t\n",
        "seterr\tseterrcall\tseterrobj\tsetxor1d\tshape\tshort\tshow_config\tsign\tsignbit\t\n",
        "signedinteger\tsin\tsinc\tsingle\tsinglecomplex\tsinh\tsize\tsometrue\tsort\t\n",
        "sort_complex\tsource\tspacing\tsplit\tsqrt\tsquare\tsqueeze\tstd\tstr_\t\n",
        "string0\tstring_\tsubtract\tsum\tswapaxes\tt\ttake\ttan\ttanh\t\n",
        "tensordot\ttile\ttimedelta64\ttrace\ttranspose\ttrapz\ttri\ttril\ttril_indices\t\n",
        "tril_indices_from\ttrim_zeros\ttriu\ttriu_indices\ttriu_indices_from\ttrue_divide\ttrunc\ttypeDict\ttypeNA\t\n",
        "typecodes\ttypename\tubyte\tufunc\tuint\tuint0\tuint16\tuint32\tuint64\t\n",
        "uint8\tuintc\tuintp\tulonglong\tunicode0\tunicode_\tunion1d\tunique\tunpackbits\t\n",
        "unravel_index\tunsignedinteger\tunwrap\tushort\tv\tvander\tvar\tvdot\tvectorize\t\n",
        "void\tvoid0\tvsplit\tvstack\twhere\twho\tzeros\tzeros_like\t\n"
       ]
      }
     ],
     "prompt_number": 248
    },
    {
     "cell_type": "code",
     "collapsed": false,
     "input": [
      "array"
     ],
     "language": "python",
     "metadata": {},
     "outputs": [
      {
       "metadata": {},
       "output_type": "pyout",
       "prompt_number": 249,
       "text": [
        "<function numpy.core.multiarray.array>"
       ]
      }
     ],
     "prompt_number": 249
    },
    {
     "cell_type": "code",
     "collapsed": false,
     "input": [
      "np.array"
     ],
     "language": "python",
     "metadata": {},
     "outputs": [
      {
       "metadata": {},
       "output_type": "pyout",
       "prompt_number": 250,
       "text": [
        "<function numpy.core.multiarray.array>"
       ]
      }
     ],
     "prompt_number": 250
    },
    {
     "cell_type": "code",
     "collapsed": false,
     "input": [
      "print id(array), id(np.array)"
     ],
     "language": "python",
     "metadata": {},
     "outputs": [
      {
       "output_type": "stream",
       "stream": "stdout",
       "text": [
        "4422097520 4422097520\n"
       ]
      }
     ],
     "prompt_number": 251
    },
    {
     "cell_type": "code",
     "collapsed": false,
     "input": [
      "np.r_[3, 4]"
     ],
     "language": "python",
     "metadata": {},
     "outputs": [
      {
       "metadata": {},
       "output_type": "pyout",
       "prompt_number": 252,
       "text": [
        "array([3, 4])"
       ]
      }
     ],
     "prompt_number": 252
    },
    {
     "cell_type": "code",
     "collapsed": false,
     "input": [
      "from numpy import r_"
     ],
     "language": "python",
     "metadata": {},
     "outputs": [],
     "prompt_number": 253
    },
    {
     "cell_type": "code",
     "collapsed": false,
     "input": [
      "r_[3, 4]"
     ],
     "language": "python",
     "metadata": {},
     "outputs": [
      {
       "metadata": {},
       "output_type": "pyout",
       "prompt_number": 254,
       "text": [
        "array([3, 4])"
       ]
      }
     ],
     "prompt_number": 254
    },
    {
     "cell_type": "code",
     "collapsed": false,
     "input": [
      "r = r_"
     ],
     "language": "python",
     "metadata": {},
     "outputs": [],
     "prompt_number": 255
    },
    {
     "cell_type": "code",
     "collapsed": false,
     "input": [
      "r[3, 4]"
     ],
     "language": "python",
     "metadata": {},
     "outputs": [
      {
       "metadata": {},
       "output_type": "pyout",
       "prompt_number": 256,
       "text": [
        "array([3, 4])"
       ]
      }
     ],
     "prompt_number": 256
    },
    {
     "cell_type": "code",
     "collapsed": false,
     "input": [
      "r = 5.0"
     ],
     "language": "python",
     "metadata": {},
     "outputs": [],
     "prompt_number": 257
    },
    {
     "cell_type": "code",
     "collapsed": false,
     "input": [
      "r[3, 4]"
     ],
     "language": "python",
     "metadata": {},
     "outputs": [
      {
       "ename": "TypeError",
       "evalue": "'float' object has no attribute '__getitem__'",
       "output_type": "pyerr",
       "traceback": [
        "\u001b[0;31m---------------------------------------------------------------------------\u001b[0m\n\u001b[0;31mTypeError\u001b[0m                                 Traceback (most recent call last)",
        "\u001b[0;32m<ipython-input-258-73355dd58cce>\u001b[0m in \u001b[0;36m<module>\u001b[0;34m()\u001b[0m\n\u001b[0;32m----> 1\u001b[0;31m \u001b[0mr\u001b[0m\u001b[0;34m[\u001b[0m\u001b[0;36m3\u001b[0m\u001b[0;34m,\u001b[0m \u001b[0;36m4\u001b[0m\u001b[0;34m]\u001b[0m\u001b[0;34m\u001b[0m\u001b[0m\n\u001b[0m",
        "\u001b[0;31mTypeError\u001b[0m: 'float' object has no attribute '__getitem__'"
       ]
      }
     ],
     "prompt_number": 258
    },
    {
     "cell_type": "code",
     "collapsed": false,
     "input": [
      "_"
     ],
     "language": "python",
     "metadata": {},
     "outputs": [
      {
       "metadata": {},
       "output_type": "pyout",
       "prompt_number": 259,
       "text": [
        "array([3, 4])"
       ]
      }
     ],
     "prompt_number": 259
    },
    {
     "cell_type": "code",
     "collapsed": false,
     "input": [
      "[[ ]]"
     ],
     "language": "python",
     "metadata": {},
     "outputs": [
      {
       "metadata": {},
       "output_type": "pyout",
       "prompt_number": 260,
       "text": [
        "[[]]"
       ]
      }
     ],
     "prompt_number": 260
    },
    {
     "cell_type": "code",
     "collapsed": false,
     "input": [
      "[()]"
     ],
     "language": "python",
     "metadata": {},
     "outputs": [
      {
       "metadata": {},
       "output_type": "pyout",
       "prompt_number": 261,
       "text": [
        "[()]"
       ]
      }
     ],
     "prompt_number": 261
    },
    {
     "cell_type": "markdown",
     "metadata": {},
     "source": [
      "Una opci\u00f3n prohibida:"
     ]
    },
    {
     "cell_type": "code",
     "collapsed": false,
     "input": [
      "from numpy import *"
     ],
     "language": "python",
     "metadata": {},
     "outputs": [],
     "prompt_number": 262
    },
    {
     "cell_type": "code",
     "collapsed": false,
     "input": [
      "%who"
     ],
     "language": "python",
     "metadata": {},
     "outputs": [
      {
       "output_type": "stream",
       "stream": "stdout",
       "text": [
        "ALLOW_THREADS\tBUFSIZE\tCLIP\tComplexWarning\tDataSource\tERR_CALL\tERR_DEFAULT\tERR_DEFAULT2\tERR_IGNORE\t\n",
        "ERR_LOG\tERR_PRINT\tERR_RAISE\tERR_WARN\tFLOATING_POINT_SUPPORT\tFPE_DIVIDEBYZERO\tFPE_INVALID\tFPE_OVERFLOW\tFPE_UNDERFLOW\t\n",
        "False_\tInf\tInfinity\tM\tMAXDIMS\tMachAr\tNAN\tNINF\tNZERO\t\n",
        "NaN\tPINF\tPZERO\tPackageLoader\tQ\tRAISE\tRankWarning\tSHIFT_DIVIDEBYZERO\tSHIFT_INVALID\t\n",
        "SHIFT_OVERFLOW\tSHIFT_UNDERFLOW\tScalarType\tTrue_\tUFUNC_BUFSIZE_DEFAULT\tUFUNC_PYVALS_NAME\tWRAP\ta\tabsolute\t\n",
        "add\tadd_docstring\tadd_newdoc\tadd_newdoc_ufunc\tadd_newdocs\talen\tall\tallclose\talltrue\t\n",
        "alterdot\tamax\tamin\tangle\tany\tappend\tapply_along_axis\tapply_over_axes\tarange\t\n",
        "arccos\tarccosh\tarcsin\tarcsinh\tarctan\tarctan2\tarctanh\targmax\targmin\t\n",
        "argsort\targwhere\taround\tarray\tarray2string\tarray_equal\tarray_equiv\tarray_repr\tarray_split\t\n",
        "array_str\tasanyarray\tasarray\tasarray_chkfinite\tascontiguousarray\tasfarray\tasfortranarray\tasmatrix\tasscalar\t\n",
        "atleast_1d\tatleast_2d\tatleast_3d\taverage\tbartlett\tbase_repr\tbinary_repr\tbincount\tbitwise_and\t\n",
        "bitwise_not\tbitwise_or\tbitwise_xor\tblackman\tbmat\tbool8\tbool_\tbroadcast\tbroadcast_arrays\t\n",
        "busday_count\tbusday_offset\tbusdaycalendar\tbyte\tbyte_bounds\tbytes_\tc_\tcan_cast\tcast\t\n",
        "cdouble\tceil\tcfloat\tchar\tcharacter\tchararray\tchoose\tclip\tclongdouble\t\n",
        "clongfloat\tcolumn_stack\tcommon_type\tcompare_chararrays\tcomplex128\tcomplex256\tcomplex64\tcomplex_\tcomplexfloating\t\n",
        "compress\tconcatenate\tconj\tconjugate\tconvolve\tcopy\tcopysign\tcopyto\tcorrcoef\t\n",
        "correlate\tcos\tcosh\tcount_nonzero\tcov\tcross\tcsingle\tctypeslib\tcumprod\t\n",
        "cumproduct\tcumsum\td\tdatetime64\tdatetime_as_string\tdatetime_data\tdeg2rad\tdegrees\tdelete\t\n",
        "deprecate\tdeprecate_with_doc\tdet\tdiag\tdiag_indices\tdiag_indices_from\tdiagflat\tdiagonal\tdiff\t\n",
        "digitize\tdisp\tdivide\tdot\tdouble\tdsplit\tdstack\tdtype\te\t\n",
        "ediff1d\teinsum\temath\tempty\tempty_like\tequal\terrstate\texp\texp2\t\n",
        "expand_dims\texpm1\textract\teye\tfabs\tfastCopyAndTranspose\tfft\tfill_diagonal\tfind_common_type\t\n",
        "finfo\tfix\tflatiter\tflatnonzero\tflexible\tfliplr\tflipud\tfloat128\tfloat16\t\n",
        "float32\tfloat64\tfloat_\tfloating\tfloor\tfloor_divide\tfmax\tfmin\tfmod\t\n",
        "format_parser\tfrexp\tfrombuffer\tfromfile\tfromfunction\tfromiter\tfrompyfunc\tfromregex\tfromstring\t\n",
        "fv\tgeneric\tgenfromtxt\tget_array_wrap\tget_include\tget_numarray_include\tget_printoptions\tgetbuffer\tgetbufsize\t\n",
        "geterr\tgeterrcall\tgeterrobj\tgradient\tgreater\tgreater_equal\thalf\thamming\thanning\t\n",
        "histogram\thistogram2d\thistogramdd\thsplit\thstack\thypot\ti\ti0\tidentity\t\n",
        "iinfo\timag\tin1d\tindex_exp\tindices\tinexact\tinf\tinfo\tinfty\t\n",
        "inner\tinsert\tint0\tint16\tint32\tint64\tint8\tint_\tint_asbuffer\t\n",
        "intc\tinteger\tinterp\tintersect1d\tintp\tinvert\tipmt\tirr\tis_busday\t\n",
        "isclose\tiscomplex\tiscomplexobj\tisfinite\tisfortran\tisinf\tisnan\tisneginf\tisposinf\t\n",
        "isreal\tisrealobj\tisscalar\tissctype\tissubclass_\tissubdtype\tissubsctype\titerable\tix_\t\n",
        "kaiser\tkron\tl\tlamb\tlambmat\tldexp\tleft_shift\tless\tless_equal\t\n",
        "lexsort\tlinalg\tlinspace\tlittle_endian\tload\tloads\tloadtxt\tlog\tlog10\t\n",
        "log1p\tlog2\tlogaddexp\tlogaddexp2\tlogical_and\tlogical_not\tlogical_or\tlogical_xor\tlogspace\t\n",
        "longcomplex\tlongdouble\tlongfloat\tlonglong\tlookfor\tma\tmafromtxt\tmask_indices\tmat\t\n",
        "math\tmatrix\tmaximum\tmaximum_sctype\tmay_share_memory\tmean\tmedian\tmemmap\tmeshgrid\t\n",
        "mgrid\tmin_scalar_type\tminimum\tmintypecode\tmirr\tmod\tmodf\tmsort\tmultiply\t\n",
        "nan\tnan_to_num\tnanargmax\tnanargmin\tnanmax\tnanmin\tnansum\tnbytes\tndarray\t\n",
        "ndenumerate\tndfromtxt\tndim\tndindex\tnditer\tnegative\tnested_iters\tnewaxis\tnewbuffer\t\n",
        "nextafter\tnonzero\tnot_equal\tnp\tnper\tnpv\tnumber\tobj2sctype\tobject0\t\n",
        "object_\togrid\tones\tones_like\touter\tpackbits\tpad\tpercentile\tpi\t\n",
        "piecewise\tpkgload\tplace\tpmt\tpoly\tpoly1d\tpolyadd\tpolyder\tpolydiv\t\n",
        "polyfit\tpolyint\tpolymul\tpolysub\tpolyval\tpower\tppmt\tprod\tproduct\t\n",
        "promote_types\tptp\tput\tputmask\tpv\tr\tr_\trad2deg\tradians\t\n",
        "random\trank\trate\travel\travel_multi_index\treal\treal_if_close\trec\trecarray\t\n",
        "recfromcsv\trecfromtxt\treciprocal\trecord\tremainder\trepeat\trequire\treshape\tresize\t\n",
        "restoredot\tresult_type\tright_shift\trint\troll\trollaxis\troots\trot90\tround_\t\n",
        "row_stack\ts_\tsafe_eval\tsave\tsavetxt\tsavez\tsavez_compressed\tsctype2char\tsctypeDict\t\n",
        "sctypeNA\tsctypes\tsearchsorted\tselect\tset_numeric_ops\tset_printoptions\tset_string_function\tsetbufsize\tsetdiff1d\t\n",
        "seterr\tseterrcall\tseterrobj\tsetxor1d\tshape\tshort\tshow_config\tsign\tsignbit\t\n",
        "signedinteger\tsin\tsinc\tsingle\tsinglecomplex\tsinh\tsize\tsometrue\tsort\t\n",
        "sort_complex\tsource\tspacing\tsplit\tsqrt\tsquare\tsqueeze\tstd\tstr_\t\n",
        "string0\tstring_\tsubtract\tsum\tswapaxes\tt\ttake\ttan\ttanh\t\n",
        "tensordot\ttile\ttimedelta64\ttrace\ttranspose\ttrapz\ttri\ttril\ttril_indices\t\n",
        "tril_indices_from\ttrim_zeros\ttriu\ttriu_indices\ttriu_indices_from\ttrue_divide\ttrunc\ttypeDict\ttypeNA\t\n",
        "typecodes\ttypename\tubyte\tufunc\tuint\tuint0\tuint16\tuint32\tuint64\t\n",
        "uint8\tuintc\tuintp\tulonglong\tunicode0\tunicode_\tunion1d\tunique\tunpackbits\t\n",
        "unravel_index\tunsignedinteger\tunwrap\tushort\tv\tvander\tvar\tvdot\tvectorize\t\n",
        "void\tvoid0\tvsplit\tvstack\twhere\twho\tzeros\tzeros_like\t\n"
       ]
      }
     ],
     "prompt_number": 263
    },
    {
     "cell_type": "code",
     "collapsed": false,
     "input": [
      "l"
     ],
     "language": "python",
     "metadata": {},
     "outputs": [
      {
       "metadata": {},
       "output_type": "pyout",
       "prompt_number": 264,
       "text": [
        "[1.0, 2.0]"
       ]
      }
     ],
     "prompt_number": 264
    },
    {
     "cell_type": "code",
     "collapsed": false,
     "input": [
      "v"
     ],
     "language": "python",
     "metadata": {},
     "outputs": [
      {
       "metadata": {},
       "output_type": "pyout",
       "prompt_number": 265,
       "text": [
        "array([ 1.,  2.])"
       ]
      }
     ],
     "prompt_number": 265
    },
    {
     "cell_type": "code",
     "collapsed": false,
     "input": [
      "v = np.r_[1, 2, 1]"
     ],
     "language": "python",
     "metadata": {},
     "outputs": [],
     "prompt_number": 266
    },
    {
     "cell_type": "code",
     "collapsed": false,
     "input": [
      "v == 1"
     ],
     "language": "python",
     "metadata": {},
     "outputs": [
      {
       "metadata": {},
       "output_type": "pyout",
       "prompt_number": 267,
       "text": [
        "array([ True, False,  True], dtype=bool)"
       ]
      }
     ],
     "prompt_number": 267
    },
    {
     "cell_type": "code",
     "collapsed": false,
     "input": [
      "v[v == 1] = np.array([17, 17])"
     ],
     "language": "python",
     "metadata": {},
     "outputs": [],
     "prompt_number": 268
    },
    {
     "cell_type": "code",
     "collapsed": false,
     "input": [
      "v"
     ],
     "language": "python",
     "metadata": {},
     "outputs": [
      {
       "metadata": {},
       "output_type": "pyout",
       "prompt_number": 269,
       "text": [
        "array([17,  2, 17])"
       ]
      }
     ],
     "prompt_number": 269
    },
    {
     "cell_type": "code",
     "collapsed": false,
     "input": [
      "b = (v == 17)"
     ],
     "language": "python",
     "metadata": {},
     "outputs": [],
     "prompt_number": 270
    },
    {
     "cell_type": "code",
     "collapsed": false,
     "input": [
      "b"
     ],
     "language": "python",
     "metadata": {},
     "outputs": [
      {
       "metadata": {},
       "output_type": "pyout",
       "prompt_number": 271,
       "text": [
        "array([ True, False,  True], dtype=bool)"
       ]
      }
     ],
     "prompt_number": 271
    },
    {
     "cell_type": "code",
     "collapsed": false,
     "input": [
      "b.astype(int)"
     ],
     "language": "python",
     "metadata": {},
     "outputs": [
      {
       "metadata": {},
       "output_type": "pyout",
       "prompt_number": 272,
       "text": [
        "array([1, 0, 1])"
       ]
      }
     ],
     "prompt_number": 272
    },
    {
     "cell_type": "code",
     "collapsed": false,
     "input": [
      "l.index(1.0)\n"
     ],
     "language": "python",
     "metadata": {},
     "outputs": [
      {
       "metadata": {},
       "output_type": "pyout",
       "prompt_number": 273,
       "text": [
        "0"
       ]
      }
     ],
     "prompt_number": 273
    },
    {
     "cell_type": "heading",
     "level": 3,
     "metadata": {},
     "source": [
      "Matrices"
     ]
    },
    {
     "cell_type": "code",
     "collapsed": false,
     "input": [
      "M = np.array([ [2, 1], [1, 1] ] )"
     ],
     "language": "python",
     "metadata": {},
     "outputs": [],
     "prompt_number": 274
    },
    {
     "cell_type": "code",
     "collapsed": false,
     "input": [
      "M"
     ],
     "language": "python",
     "metadata": {},
     "outputs": [
      {
       "metadata": {},
       "output_type": "pyout",
       "prompt_number": 275,
       "text": [
        "array([[2, 1],\n",
        "       [1, 1]])"
       ]
      }
     ],
     "prompt_number": 275
    },
    {
     "cell_type": "code",
     "collapsed": false,
     "input": [
      "print M"
     ],
     "language": "python",
     "metadata": {},
     "outputs": [
      {
       "output_type": "stream",
       "stream": "stdout",
       "text": [
        "[[2 1]\n",
        " [1 1]]\n"
       ]
      }
     ],
     "prompt_number": 276
    },
    {
     "cell_type": "code",
     "collapsed": false,
     "input": [
      "M.shape"
     ],
     "language": "python",
     "metadata": {},
     "outputs": [
      {
       "metadata": {},
       "output_type": "pyout",
       "prompt_number": 277,
       "text": [
        "(2, 2)"
       ]
      }
     ],
     "prompt_number": 277
    },
    {
     "cell_type": "code",
     "collapsed": false,
     "input": [
      "M +M "
     ],
     "language": "python",
     "metadata": {},
     "outputs": [
      {
       "metadata": {},
       "output_type": "pyout",
       "prompt_number": 278,
       "text": [
        "array([[4, 2],\n",
        "       [2, 2]])"
       ]
      }
     ],
     "prompt_number": 278
    },
    {
     "cell_type": "code",
     "collapsed": false,
     "input": [
      "3.5 * M"
     ],
     "language": "python",
     "metadata": {},
     "outputs": [
      {
       "metadata": {},
       "output_type": "pyout",
       "prompt_number": 279,
       "text": [
        "array([[ 7. ,  3.5],\n",
        "       [ 3.5,  3.5]])"
       ]
      }
     ],
     "prompt_number": 279
    },
    {
     "cell_type": "markdown",
     "metadata": {},
     "source": [
      "**Ojo**: `M * M` hace multiplicaci\u00f3n entrada por entrada, *no* multiplicaci\u00f3n matricial!"
     ]
    },
    {
     "cell_type": "code",
     "collapsed": false,
     "input": [
      "M * M"
     ],
     "language": "python",
     "metadata": {},
     "outputs": [
      {
       "metadata": {},
       "output_type": "pyout",
       "prompt_number": 280,
       "text": [
        "array([[4, 1],\n",
        "       [1, 1]])"
       ]
      }
     ],
     "prompt_number": 280
    },
    {
     "cell_type": "markdown",
     "metadata": {},
     "source": [
      "Para multiplicaci\u00f3n matricial usamos:"
     ]
    },
    {
     "cell_type": "code",
     "collapsed": false,
     "input": [
      "np.dot(M, M)"
     ],
     "language": "python",
     "metadata": {},
     "outputs": [
      {
       "metadata": {},
       "output_type": "pyout",
       "prompt_number": 281,
       "text": [
        "array([[5, 3],\n",
        "       [3, 2]])"
       ]
      }
     ],
     "prompt_number": 281
    },
    {
     "cell_type": "code",
     "collapsed": false,
     "input": [
      "v = np.array([1, 2])\n",
      "np.dot(M, v)"
     ],
     "language": "python",
     "metadata": {},
     "outputs": [
      {
       "metadata": {},
       "output_type": "pyout",
       "prompt_number": 282,
       "text": [
        "array([4, 3])"
       ]
      }
     ],
     "prompt_number": 282
    },
    {
     "cell_type": "code",
     "collapsed": false,
     "input": [
      "np.dot??"
     ],
     "language": "python",
     "metadata": {},
     "outputs": [],
     "prompt_number": 283
    },
    {
     "cell_type": "code",
     "collapsed": false,
     "input": [
      "M"
     ],
     "language": "python",
     "metadata": {},
     "outputs": [
      {
       "metadata": {},
       "output_type": "pyout",
       "prompt_number": 284,
       "text": [
        "array([[2, 1],\n",
        "       [1, 1]])"
       ]
      }
     ],
     "prompt_number": 284
    },
    {
     "cell_type": "code",
     "collapsed": false,
     "input": [
      "v"
     ],
     "language": "python",
     "metadata": {},
     "outputs": [
      {
       "metadata": {},
       "output_type": "pyout",
       "prompt_number": 285,
       "text": [
        "array([1, 2])"
       ]
      }
     ],
     "prompt_number": 285
    },
    {
     "cell_type": "code",
     "collapsed": false,
     "input": [
      "M + v"
     ],
     "language": "python",
     "metadata": {},
     "outputs": [
      {
       "metadata": {},
       "output_type": "pyout",
       "prompt_number": 286,
       "text": [
        "array([[3, 3],\n",
        "       [2, 3]])"
       ]
      }
     ],
     "prompt_number": 286
    },
    {
     "cell_type": "code",
     "collapsed": false,
     "input": [
      "M + 3.5"
     ],
     "language": "python",
     "metadata": {},
     "outputs": [
      {
       "metadata": {},
       "output_type": "pyout",
       "prompt_number": 287,
       "text": [
        "array([[ 5.5,  4.5],\n",
        "       [ 4.5,  4.5]])"
       ]
      }
     ],
     "prompt_number": 287
    },
    {
     "cell_type": "code",
     "collapsed": false,
     "input": [
      "np.dot(v, M)"
     ],
     "language": "python",
     "metadata": {},
     "outputs": [
      {
       "metadata": {},
       "output_type": "pyout",
       "prompt_number": 288,
       "text": [
        "array([4, 3])"
       ]
      }
     ],
     "prompt_number": 288
    },
    {
     "cell_type": "code",
     "collapsed": false,
     "input": [
      "np.dot(M, v)"
     ],
     "language": "python",
     "metadata": {},
     "outputs": [
      {
       "metadata": {},
       "output_type": "pyout",
       "prompt_number": 289,
       "text": [
        "array([4, 3])"
       ]
      }
     ],
     "prompt_number": 289
    },
    {
     "cell_type": "code",
     "collapsed": false,
     "input": [
      "M = np.array([1, 2, 3, 4]).reshape(2, 2)"
     ],
     "language": "python",
     "metadata": {},
     "outputs": [],
     "prompt_number": 290
    },
    {
     "cell_type": "code",
     "collapsed": false,
     "input": [
      "M"
     ],
     "language": "python",
     "metadata": {},
     "outputs": [
      {
       "metadata": {},
       "output_type": "pyout",
       "prompt_number": 291,
       "text": [
        "array([[1, 2],\n",
        "       [3, 4]])"
       ]
      }
     ],
     "prompt_number": 291
    },
    {
     "cell_type": "code",
     "collapsed": false,
     "input": [
      "print np.dot(M, v), np.dot(v, M)"
     ],
     "language": "python",
     "metadata": {},
     "outputs": [
      {
       "output_type": "stream",
       "stream": "stdout",
       "text": [
        "[ 5 11] [ 7 10]\n"
       ]
      }
     ],
     "prompt_number": 292
    },
    {
     "cell_type": "code",
     "collapsed": false,
     "input": [
      "M"
     ],
     "language": "python",
     "metadata": {},
     "outputs": [
      {
       "metadata": {},
       "output_type": "pyout",
       "prompt_number": 293,
       "text": [
        "array([[1, 2],\n",
        "       [3, 4]])"
       ]
      }
     ],
     "prompt_number": 293
    },
    {
     "cell_type": "code",
     "collapsed": false,
     "input": [
      "M.T"
     ],
     "language": "python",
     "metadata": {},
     "outputs": [
      {
       "metadata": {},
       "output_type": "pyout",
       "prompt_number": 294,
       "text": [
        "array([[1, 3],\n",
        "       [2, 4]])"
       ]
      }
     ],
     "prompt_number": 294
    },
    {
     "cell_type": "code",
     "collapsed": false,
     "input": [
      "M.transpose()"
     ],
     "language": "python",
     "metadata": {},
     "outputs": [
      {
       "metadata": {},
       "output_type": "pyout",
       "prompt_number": 295,
       "text": [
        "array([[1, 3],\n",
        "       [2, 4]])"
       ]
      }
     ],
     "prompt_number": 295
    },
    {
     "cell_type": "code",
     "collapsed": false,
     "input": [
      "v.transpose()"
     ],
     "language": "python",
     "metadata": {},
     "outputs": [
      {
       "metadata": {},
       "output_type": "pyout",
       "prompt_number": 296,
       "text": [
        "array([1, 2])"
       ]
      }
     ],
     "prompt_number": 296
    },
    {
     "cell_type": "code",
     "collapsed": false,
     "input": [
      "v = np.array([[1, 2]])"
     ],
     "language": "python",
     "metadata": {},
     "outputs": [],
     "prompt_number": 297
    },
    {
     "cell_type": "code",
     "collapsed": false,
     "input": [
      "v"
     ],
     "language": "python",
     "metadata": {},
     "outputs": [
      {
       "metadata": {},
       "output_type": "pyout",
       "prompt_number": 298,
       "text": [
        "array([[1, 2]])"
       ]
      }
     ],
     "prompt_number": 298
    },
    {
     "cell_type": "code",
     "collapsed": false,
     "input": [
      "v.transpose()"
     ],
     "language": "python",
     "metadata": {},
     "outputs": [
      {
       "metadata": {},
       "output_type": "pyout",
       "prompt_number": 299,
       "text": [
        "array([[1],\n",
        "       [2]])"
       ]
      }
     ],
     "prompt_number": 299
    },
    {
     "cell_type": "code",
     "collapsed": false,
     "input": [
      "M"
     ],
     "language": "python",
     "metadata": {},
     "outputs": [
      {
       "metadata": {},
       "output_type": "pyout",
       "prompt_number": 300,
       "text": [
        "array([[1, 2],\n",
        "       [3, 4]])"
       ]
      }
     ],
     "prompt_number": 300
    },
    {
     "cell_type": "code",
     "collapsed": false,
     "input": [
      "list(M)"
     ],
     "language": "python",
     "metadata": {},
     "outputs": [
      {
       "metadata": {},
       "output_type": "pyout",
       "prompt_number": 301,
       "text": [
        "[array([1, 2]), array([3, 4])]"
       ]
      }
     ],
     "prompt_number": 301
    },
    {
     "cell_type": "code",
     "collapsed": false,
     "input": [
      "l = [ [ ] ] "
     ],
     "language": "python",
     "metadata": {},
     "outputs": [],
     "prompt_number": 302
    },
    {
     "cell_type": "code",
     "collapsed": false,
     "input": [
      "np.array(l)"
     ],
     "language": "python",
     "metadata": {},
     "outputs": [
      {
       "metadata": {},
       "output_type": "pyout",
       "prompt_number": 303,
       "text": [
        "array([], shape=(1, 0), dtype=float64)"
       ]
      }
     ],
     "prompt_number": 303
    },
    {
     "cell_type": "code",
     "collapsed": false,
     "input": [
      "from numpy import linalg"
     ],
     "language": "python",
     "metadata": {},
     "outputs": [],
     "prompt_number": 304
    },
    {
     "cell_type": "code",
     "collapsed": false,
     "input": [
      "linalg.det(M)"
     ],
     "language": "python",
     "metadata": {},
     "outputs": [
      {
       "metadata": {},
       "output_type": "pyout",
       "prompt_number": 305,
       "text": [
        "-2.0000000000000004"
       ]
      }
     ],
     "prompt_number": 305
    },
    {
     "cell_type": "code",
     "collapsed": false,
     "input": [
      "linalg"
     ],
     "language": "python",
     "metadata": {},
     "outputs": [
      {
       "metadata": {},
       "output_type": "pyout",
       "prompt_number": 306,
       "text": [
        "<module 'numpy.linalg' from '/usr/local/Cellar/python/2.7.5/Frameworks/Python.framework/Versions/2.7/lib/python2.7/site-packages/numpy/linalg/__init__.pyc'>"
       ]
      }
     ],
     "prompt_number": 306
    },
    {
     "cell_type": "code",
     "collapsed": false,
     "input": [
      "np.linalg.det"
     ],
     "language": "python",
     "metadata": {},
     "outputs": [
      {
       "metadata": {},
       "output_type": "pyout",
       "prompt_number": 307,
       "text": [
        "<function numpy.linalg.linalg.det>"
       ]
      }
     ],
     "prompt_number": 307
    },
    {
     "cell_type": "code",
     "collapsed": false,
     "input": [
      "from numpy.linalg import det"
     ],
     "language": "python",
     "metadata": {},
     "outputs": [],
     "prompt_number": 308
    },
    {
     "cell_type": "code",
     "collapsed": false,
     "input": [
      "det(M)"
     ],
     "language": "python",
     "metadata": {},
     "outputs": [
      {
       "metadata": {},
       "output_type": "pyout",
       "prompt_number": 309,
       "text": [
        "-2.0000000000000004"
       ]
      }
     ],
     "prompt_number": 309
    },
    {
     "cell_type": "code",
     "collapsed": false,
     "input": [
      "1.*4. - 2.*3"
     ],
     "language": "python",
     "metadata": {},
     "outputs": [
      {
       "metadata": {},
       "output_type": "pyout",
       "prompt_number": 310,
       "text": [
        "-2.0"
       ]
      }
     ],
     "prompt_number": 310
    },
    {
     "cell_type": "code",
     "collapsed": false,
     "input": [
      "np.linalg.det(10. * M)"
     ],
     "language": "python",
     "metadata": {},
     "outputs": [
      {
       "metadata": {},
       "output_type": "pyout",
       "prompt_number": 311,
       "text": [
        "-200.00000000000011"
       ]
      }
     ],
     "prompt_number": 311
    },
    {
     "cell_type": "code",
     "collapsed": false,
     "input": [
      "det(M)"
     ],
     "language": "python",
     "metadata": {},
     "outputs": [
      {
       "metadata": {},
       "output_type": "pyout",
       "prompt_number": 312,
       "text": [
        "-2.0000000000000004"
       ]
      }
     ],
     "prompt_number": 312
    },
    {
     "cell_type": "code",
     "collapsed": false,
     "input": [
      "print det(M)"
     ],
     "language": "python",
     "metadata": {},
     "outputs": [
      {
       "output_type": "stream",
       "stream": "stdout",
       "text": [
        "-2.0\n"
       ]
      }
     ],
     "prompt_number": 313
    },
    {
     "cell_type": "code",
     "collapsed": false,
     "input": [
      "for i in [1., 10., 100., 1000., 10000., 100000.]:\n",
      "    print repr(det(i*M))"
     ],
     "language": "python",
     "metadata": {},
     "outputs": [
      {
       "output_type": "stream",
       "stream": "stdout",
       "text": [
        "-2.0000000000000004\n",
        "-200.00000000000011\n",
        "-19999.999999999982\n",
        "-1999999.9999999993\n",
        "-200000000.0\n",
        "-19999999999.999973\n"
       ]
      }
     ],
     "prompt_number": 314
    },
    {
     "cell_type": "code",
     "collapsed": false,
     "input": [
      "print M"
     ],
     "language": "python",
     "metadata": {},
     "outputs": [
      {
       "output_type": "stream",
       "stream": "stdout",
       "text": [
        "[[1 2]\n",
        " [3 4]]\n"
       ]
      }
     ],
     "prompt_number": 315
    },
    {
     "cell_type": "code",
     "collapsed": false,
     "input": [
      "np.array?"
     ],
     "language": "python",
     "metadata": {},
     "outputs": [],
     "prompt_number": 316
    },
    {
     "cell_type": "code",
     "collapsed": false,
     "input": [
      "M"
     ],
     "language": "python",
     "metadata": {},
     "outputs": [
      {
       "metadata": {},
       "output_type": "pyout",
       "prompt_number": 317,
       "text": [
        "array([[1, 2],\n",
        "       [3, 4]])"
       ]
      }
     ],
     "prompt_number": 317
    },
    {
     "cell_type": "code",
     "collapsed": false,
     "input": [
      "M[0]"
     ],
     "language": "python",
     "metadata": {},
     "outputs": [
      {
       "metadata": {},
       "output_type": "pyout",
       "prompt_number": 318,
       "text": [
        "array([1, 2])"
       ]
      }
     ],
     "prompt_number": 318
    },
    {
     "cell_type": "code",
     "collapsed": false,
     "input": [
      "M[1]"
     ],
     "language": "python",
     "metadata": {},
     "outputs": [
      {
       "metadata": {},
       "output_type": "pyout",
       "prompt_number": 319,
       "text": [
        "array([3, 4])"
       ]
      }
     ],
     "prompt_number": 319
    },
    {
     "cell_type": "code",
     "collapsed": false,
     "input": [
      "M[0, 1]"
     ],
     "language": "python",
     "metadata": {},
     "outputs": [
      {
       "metadata": {},
       "output_type": "pyout",
       "prompt_number": 320,
       "text": [
        "2"
       ]
      }
     ],
     "prompt_number": 320
    },
    {
     "cell_type": "code",
     "collapsed": false,
     "input": [
      "M[0, 0:2]"
     ],
     "language": "python",
     "metadata": {},
     "outputs": [
      {
       "metadata": {},
       "output_type": "pyout",
       "prompt_number": 321,
       "text": [
        "array([1, 2])"
       ]
      }
     ],
     "prompt_number": 321
    },
    {
     "cell_type": "markdown",
     "metadata": {},
     "source": [
      "Primer rengl\u00f3n:"
     ]
    },
    {
     "cell_type": "code",
     "collapsed": false,
     "input": [
      "M[0]\n",
      "M[0, :]"
     ],
     "language": "python",
     "metadata": {},
     "outputs": [
      {
       "metadata": {},
       "output_type": "pyout",
       "prompt_number": 322,
       "text": [
        "array([1, 2])"
       ]
      }
     ],
     "prompt_number": 322
    },
    {
     "cell_type": "markdown",
     "metadata": {},
     "source": [
      "Primera columna"
     ]
    },
    {
     "cell_type": "code",
     "collapsed": false,
     "input": [
      "M.T[0]\n",
      "M[:, 0]"
     ],
     "language": "python",
     "metadata": {},
     "outputs": [
      {
       "metadata": {},
       "output_type": "pyout",
       "prompt_number": 323,
       "text": [
        "array([1, 3])"
       ]
      }
     ],
     "prompt_number": 323
    },
    {
     "cell_type": "code",
     "collapsed": false,
     "input": [
      "M.strides"
     ],
     "language": "python",
     "metadata": {},
     "outputs": [
      {
       "metadata": {},
       "output_type": "pyout",
       "prompt_number": 324,
       "text": [
        "(16, 8)"
       ]
      }
     ],
     "prompt_number": 324
    },
    {
     "cell_type": "code",
     "collapsed": false,
     "input": [
      "M.T.strides"
     ],
     "language": "python",
     "metadata": {},
     "outputs": [
      {
       "metadata": {},
       "output_type": "pyout",
       "prompt_number": 325,
       "text": [
        "(8, 16)"
       ]
      }
     ],
     "prompt_number": 325
    },
    {
     "cell_type": "code",
     "collapsed": false,
     "input": [
      "linalg.eig(M)"
     ],
     "language": "python",
     "metadata": {},
     "outputs": [
      {
       "metadata": {},
       "output_type": "pyout",
       "prompt_number": 326,
       "text": [
        "(array([-0.37228132,  5.37228132]),\n",
        " array([[-0.82456484, -0.41597356],\n",
        "       [ 0.56576746, -0.90937671]]))"
       ]
      }
     ],
     "prompt_number": 326
    },
    {
     "cell_type": "code",
     "collapsed": false,
     "input": [
      "lamb, v = linalg.eig(M)"
     ],
     "language": "python",
     "metadata": {},
     "outputs": [],
     "prompt_number": 327
    },
    {
     "cell_type": "code",
     "collapsed": false,
     "input": [
      "lamb"
     ],
     "language": "python",
     "metadata": {},
     "outputs": [
      {
       "metadata": {},
       "output_type": "pyout",
       "prompt_number": 328,
       "text": [
        "array([-0.37228132,  5.37228132])"
       ]
      }
     ],
     "prompt_number": 328
    },
    {
     "cell_type": "code",
     "collapsed": false,
     "input": [
      "v"
     ],
     "language": "python",
     "metadata": {},
     "outputs": [
      {
       "metadata": {},
       "output_type": "pyout",
       "prompt_number": 329,
       "text": [
        "array([[-0.82456484, -0.41597356],\n",
        "       [ 0.56576746, -0.90937671]])"
       ]
      }
     ],
     "prompt_number": 329
    },
    {
     "cell_type": "code",
     "collapsed": false,
     "input": [
      "d = {}"
     ],
     "language": "python",
     "metadata": {},
     "outputs": [],
     "prompt_number": 330
    },
    {
     "cell_type": "code",
     "collapsed": false,
     "input": [
      "d[(1, 2)] = 3"
     ],
     "language": "python",
     "metadata": {},
     "outputs": [],
     "prompt_number": 331
    },
    {
     "cell_type": "code",
     "collapsed": false,
     "input": [
      "d[[1, 2]] = 3"
     ],
     "language": "python",
     "metadata": {},
     "outputs": [
      {
       "ename": "TypeError",
       "evalue": "unhashable type: 'list'",
       "output_type": "pyerr",
       "traceback": [
        "\u001b[0;31m---------------------------------------------------------------------------\u001b[0m\n\u001b[0;31mTypeError\u001b[0m                                 Traceback (most recent call last)",
        "\u001b[0;32m<ipython-input-332-c7869cc80757>\u001b[0m in \u001b[0;36m<module>\u001b[0;34m()\u001b[0m\n\u001b[0;32m----> 1\u001b[0;31m \u001b[0md\u001b[0m\u001b[0;34m[\u001b[0m\u001b[0;34m[\u001b[0m\u001b[0;36m1\u001b[0m\u001b[0;34m,\u001b[0m \u001b[0;36m2\u001b[0m\u001b[0;34m]\u001b[0m\u001b[0;34m]\u001b[0m \u001b[0;34m=\u001b[0m \u001b[0;36m3\u001b[0m\u001b[0;34m\u001b[0m\u001b[0m\n\u001b[0m",
        "\u001b[0;31mTypeError\u001b[0m: unhashable type: 'list'"
       ]
      }
     ],
     "prompt_number": 332
    },
    {
     "cell_type": "code",
     "collapsed": false,
     "input": [
      "np.diag(lamb)"
     ],
     "language": "python",
     "metadata": {},
     "outputs": []
    },
    {
     "cell_type": "code",
     "collapsed": false,
     "input": [
      "lamb, Q = linalg.eig(M)"
     ],
     "language": "python",
     "metadata": {},
     "outputs": []
    },
    {
     "cell_type": "code",
     "collapsed": false,
     "input": [
      "lambmat = np.diag(lamb)"
     ],
     "language": "python",
     "metadata": {},
     "outputs": []
    },
    {
     "cell_type": "code",
     "collapsed": false,
     "input": [
      "np.dot(np.dot(Q, lambmat), linalg.inv(Q))"
     ],
     "language": "python",
     "metadata": {},
     "outputs": []
    },
    {
     "cell_type": "code",
     "collapsed": false,
     "input": [
      "M"
     ],
     "language": "python",
     "metadata": {},
     "outputs": []
    },
    {
     "cell_type": "code",
     "collapsed": false,
     "input": [
      "v = np.array([1., 2.])"
     ],
     "language": "python",
     "metadata": {},
     "outputs": []
    },
    {
     "cell_type": "code",
     "collapsed": false,
     "input": [
      "linalg.solve(M, v)"
     ],
     "language": "python",
     "metadata": {},
     "outputs": []
    },
    {
     "cell_type": "code",
     "collapsed": false,
     "input": [
      "np.dot(M, _)"
     ],
     "language": "python",
     "metadata": {},
     "outputs": []
    },
    {
     "cell_type": "code",
     "collapsed": false,
     "input": [
      "import numpy as np"
     ],
     "language": "python",
     "metadata": {},
     "outputs": []
    },
    {
     "cell_type": "code",
     "collapsed": false,
     "input": [
      "np.power?"
     ],
     "language": "python",
     "metadata": {},
     "outputs": []
    },
    {
     "cell_type": "code",
     "collapsed": false,
     "input": [
      "linalg.matrix_power(M, 0.5)"
     ],
     "language": "python",
     "metadata": {},
     "outputs": [
      {
       "ename": "TypeError",
       "evalue": "exponent must be an integer",
       "output_type": "pyerr",
       "traceback": [
        "\u001b[0;31m---------------------------------------------------------------------------\u001b[0m\n\u001b[0;31mTypeError\u001b[0m                                 Traceback (most recent call last)",
        "\u001b[0;32m<ipython-input-336-46bc99ac4bd6>\u001b[0m in \u001b[0;36m<module>\u001b[0;34m()\u001b[0m\n\u001b[0;32m----> 1\u001b[0;31m \u001b[0mlinalg\u001b[0m\u001b[0;34m.\u001b[0m\u001b[0mmatrix_power\u001b[0m\u001b[0;34m(\u001b[0m\u001b[0mM\u001b[0m\u001b[0;34m,\u001b[0m \u001b[0;36m0.5\u001b[0m\u001b[0;34m)\u001b[0m\u001b[0;34m\u001b[0m\u001b[0m\n\u001b[0m",
        "\u001b[0;32m/usr/local/Cellar/python/2.7.5/Frameworks/Python.framework/Versions/2.7/lib/python2.7/site-packages/numpy/matrixlib/defmatrix.pyc\u001b[0m in \u001b[0;36mmatrix_power\u001b[0;34m(M, n)\u001b[0m\n\u001b[1;32m    160\u001b[0m         \u001b[0;32mraise\u001b[0m \u001b[0mValueError\u001b[0m\u001b[0;34m(\u001b[0m\u001b[0;34m\"input must be a square array\"\u001b[0m\u001b[0;34m)\u001b[0m\u001b[0;34m\u001b[0m\u001b[0m\n\u001b[1;32m    161\u001b[0m     \u001b[0;32mif\u001b[0m \u001b[0;32mnot\u001b[0m \u001b[0missubdtype\u001b[0m\u001b[0;34m(\u001b[0m\u001b[0mtype\u001b[0m\u001b[0;34m(\u001b[0m\u001b[0mn\u001b[0m\u001b[0;34m)\u001b[0m\u001b[0;34m,\u001b[0m\u001b[0mint\u001b[0m\u001b[0;34m)\u001b[0m\u001b[0;34m:\u001b[0m\u001b[0;34m\u001b[0m\u001b[0m\n\u001b[0;32m--> 162\u001b[0;31m         \u001b[0;32mraise\u001b[0m \u001b[0mTypeError\u001b[0m\u001b[0;34m(\u001b[0m\u001b[0;34m\"exponent must be an integer\"\u001b[0m\u001b[0;34m)\u001b[0m\u001b[0;34m\u001b[0m\u001b[0m\n\u001b[0m\u001b[1;32m    163\u001b[0m \u001b[0;34m\u001b[0m\u001b[0m\n\u001b[1;32m    164\u001b[0m     \u001b[0;32mfrom\u001b[0m \u001b[0mnumpy\u001b[0m\u001b[0;34m.\u001b[0m\u001b[0mlinalg\u001b[0m \u001b[0;32mimport\u001b[0m \u001b[0minv\u001b[0m\u001b[0;34m\u001b[0m\u001b[0m\n",
        "\u001b[0;31mTypeError\u001b[0m: exponent must be an integer"
       ]
      }
     ],
     "prompt_number": 336
    },
    {
     "cell_type": "code",
     "collapsed": false,
     "input": [
      "M"
     ],
     "language": "python",
     "metadata": {},
     "outputs": [
      {
       "metadata": {},
       "output_type": "pyout",
       "prompt_number": 337,
       "text": [
        "array([[1, 2],\n",
        "       [3, 4]])"
       ]
      }
     ],
     "prompt_number": 337
    },
    {
     "cell_type": "code",
     "collapsed": false,
     "input": [
      "np.expm1?"
     ],
     "language": "python",
     "metadata": {},
     "outputs": [],
     "prompt_number": 338
    },
    {
     "cell_type": "code",
     "collapsed": false,
     "input": [
      "from scipy import linalg"
     ],
     "language": "python",
     "metadata": {},
     "outputs": [],
     "prompt_number": 339
    },
    {
     "cell_type": "code",
     "collapsed": false,
     "input": [
      "linalg"
     ],
     "language": "python",
     "metadata": {},
     "outputs": [
      {
       "metadata": {},
       "output_type": "pyout",
       "prompt_number": 340,
       "text": [
        "<module 'scipy.linalg' from '/usr/local/Cellar/python/2.7.5/Frameworks/Python.framework/Versions/2.7/lib/python2.7/site-packages/scipy/linalg/__init__.pyc'>"
       ]
      }
     ],
     "prompt_number": 340
    },
    {
     "cell_type": "code",
     "collapsed": false,
     "input": [
      "linalg.logm(M)"
     ],
     "language": "python",
     "metadata": {},
     "outputs": [
      {
       "metadata": {},
       "output_type": "pyout",
       "prompt_number": 343,
       "text": [
        "array([[-0.35043981+2.39111795j,  0.92935121-1.09376217j],\n",
        "       [ 1.39402681-1.64064326j,  1.04358699+0.7504747j ]])"
       ]
      }
     ],
     "prompt_number": 343
    },
    {
     "cell_type": "code",
     "collapsed": false,
     "input": [],
     "language": "python",
     "metadata": {},
     "outputs": []
    }
   ],
   "metadata": {}
  }
 ]
}