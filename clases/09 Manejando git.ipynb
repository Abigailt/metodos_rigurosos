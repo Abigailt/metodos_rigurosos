{
 "metadata": {
  "name": ""
 },
 "nbformat": 3,
 "nbformat_minor": 0,
 "worksheets": [
  {
   "cells": [
    {
     "cell_type": "heading",
     "level": 1,
     "metadata": {},
     "source": [
      "Proceso para utilizar git"
     ]
    },
    {
     "cell_type": "markdown",
     "metadata": {},
     "source": [
      "1. Forkear el repositorio remoto <https://github.com/computo-fc/metodos-rigurosos>\n",
      "\n",
      "2. Clonear tu repositorio remoto <https://github.com/dpsanders/metodos-rigurosos> (reemplazando `dpsanders` por tu propio usuario de GitHub)\n",
      "\n",
      "3. Cambiar al directorio que acabas de crear a trav\u00e9s del cloneo\n",
      "\n",
      "4. `git remote add upstream https://github.com/computo-fc/metodos-rigurosos`\n",
      "\n",
      "5. `git branch -u upstream/master`"
     ]
    },
    {
     "cell_type": "code",
     "collapsed": false,
     "input": [],
     "language": "python",
     "metadata": {},
     "outputs": []
    }
   ],
   "metadata": {}
  }
 ]
}